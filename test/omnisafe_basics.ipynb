{
 "cells": [
  {
   "cell_type": "markdown",
   "metadata": {},
   "source": [
    "# OmniSafe Basics\n",
    "\n",
    "This notebook is used to test how various parts of how the omnisafe library works."
   ]
  },
  {
   "cell_type": "code",
   "execution_count": 20,
   "metadata": {},
   "outputs": [],
   "source": [
    "import torch\n",
    "import omnisafe\n",
    "from omnisafe.utils.model import build_mlp_network\n",
    "import json"
   ]
  },
  {
   "cell_type": "code",
   "execution_count": 24,
   "metadata": {},
   "outputs": [
    {
     "name": "stdout",
     "output_type": "stream",
     "text": [
      "dict_keys(['pi', 'obs_normalizer'])\n"
     ]
    },
    {
     "name": "stderr",
     "output_type": "stream",
     "text": [
      "/tmp/ipykernel_15413/456654592.py:2: FutureWarning: You are using `torch.load` with `weights_only=False` (the current default value), which uses the default pickle module implicitly. It is possible to construct malicious pickle data which will execute arbitrary code during unpickling (See https://github.com/pytorch/pytorch/blob/main/SECURITY.md#untrusted-models for more details). In a future release, the default value for `weights_only` will be flipped to `True`. This limits the functions that could be executed during unpickling. Arbitrary objects will no longer be allowed to be loaded via this mode unless they are explicitly allowlisted by the user via `torch.serialization.add_safe_globals`. We recommend you start setting `weights_only=True` for any use case where you don't have full control of the loaded file. Please open an issue on GitHub for any issues related to this experimental feature.\n",
      "  model_params = torch.load('epoch-0.pt')\n"
     ]
    }
   ],
   "source": [
    "# epoch-0.pt is a saved policy from omnisafe - saved as a dict of paramters\n",
    "model_params = torch.load('epoch-0.pt')\n",
    "print(model_params.keys())"
   ]
  },
  {
   "cell_type": "code",
   "execution_count": 18,
   "metadata": {},
   "outputs": [
    {
     "name": "stdout",
     "output_type": "stream",
     "text": [
      "dict_keys(['seed', 'train_cfgs', 'algo_cfgs', 'logger_cfgs', 'model_cfgs', 'exp_name', 'env_id', 'algo'])\n",
      "dict_keys(['weight_initialization_mode', 'actor_type', 'linear_lr_decay', 'exploration_noise_anneal', 'std_range', 'actor', 'critic'])\n",
      "{'hidden_sizes': [64, 64], 'activation': 'tanh', 'lr': 0.0003}\n"
     ]
    }
   ],
   "source": [
    "# it comes with a json file detailing the model config\n",
    "with open('config.json') as json_file:\n",
    "    config = json.load(json_file)\n",
    "\n",
    "print(config.keys())\n",
    "model_config = config['model_cfgs']\n",
    "print(model_config.keys())\n",
    "actor_config = model_config['actor']\n",
    "print(actor_config)"
   ]
  },
  {
   "cell_type": "code",
   "execution_count": 47,
   "metadata": {},
   "outputs": [
    {
     "name": "stdout",
     "output_type": "stream",
     "text": [
      "odict_keys(['log_std', 'mean.0.weight', 'mean.0.bias', 'mean.2.weight', 'mean.2.bias', 'mean.4.weight', 'mean.4.bias'])\n"
     ]
    }
   ],
   "source": [
    "# Policy is a dict of parameters\n",
    "policy_params = model_params['pi'].copy()\n",
    "print(policy_params.keys())"
   ]
  },
  {
   "cell_type": "code",
   "execution_count": 4,
   "metadata": {},
   "outputs": [
    {
     "name": "stdout",
     "output_type": "stream",
     "text": [
      "torch.Size([2])\n"
     ]
    }
   ],
   "source": [
    "# log_stds\n",
    "print(policy_params['log_std'].size())"
   ]
  },
  {
   "cell_type": "code",
   "execution_count": 5,
   "metadata": {},
   "outputs": [
    {
     "name": "stdout",
     "output_type": "stream",
     "text": [
      "torch.Size([64, 60])\n",
      "torch.Size([64])\n"
     ]
    }
   ],
   "source": [
    "# first hidden layer W and b\n",
    "print(policy_params['mean.0.weight'].size())\n",
    "print(policy_params['mean.0.bias'].size())"
   ]
  },
  {
   "cell_type": "code",
   "execution_count": 6,
   "metadata": {},
   "outputs": [
    {
     "name": "stdout",
     "output_type": "stream",
     "text": [
      "torch.Size([64, 64])\n",
      "torch.Size([64])\n"
     ]
    }
   ],
   "source": [
    "# second hidden layer W and b\n",
    "print(policy_params['mean.2.weight'].size())\n",
    "print(policy_params['mean.2.bias'].size())"
   ]
  },
  {
   "cell_type": "code",
   "execution_count": 19,
   "metadata": {},
   "outputs": [
    {
     "name": "stdout",
     "output_type": "stream",
     "text": [
      "torch.Size([2, 64])\n",
      "torch.Size([2])\n"
     ]
    }
   ],
   "source": [
    "# output layer W and b\n",
    "print(policy_params['mean.4.weight'].size())\n",
    "print(policy_params['mean.4.bias'].size())"
   ]
  },
  {
   "cell_type": "code",
   "execution_count": 48,
   "metadata": {},
   "outputs": [
    {
     "name": "stdout",
     "output_type": "stream",
     "text": [
      "Parameter containing:\n",
      "tensor([0., 0.])\n",
      "dict_keys(['0.weight', '0.bias', '2.weight', '2.bias', '4.weight', '4.bias'])\n",
      "Sequential(\n",
      "  (0): Linear(in_features=60, out_features=64, bias=True)\n",
      "  (1): Tanh()\n",
      "  (2): Linear(in_features=64, out_features=64, bias=True)\n",
      "  (3): Tanh()\n",
      "  (4): Linear(in_features=64, out_features=2, bias=True)\n",
      "  (5): Identity()\n",
      ")\n"
     ]
    }
   ],
   "source": [
    "# To recreate the policy, we must instantiate the model and then load in the parameters\n",
    "\n",
    "# we would be given the obs and act dims\n",
    "obs_dim = 60\n",
    "act_dim = 2\n",
    "\n",
    "mean_base: torch.nn.Module = build_mlp_network(\n",
    "    sizes=[obs_dim, *actor_config['hidden_sizes'], act_dim],\n",
    "    activation=actor_config['activation'],\n",
    "    weight_initialization_mode='kaiming_uniform',\n",
    ")\n",
    "\n",
    "log_std_base = torch.nn.Parameter(policy_params.pop('log_std'), requires_grad=False)\n",
    "print(log_std_base)\n",
    "\n",
    "policy_params = {k.replace('mean.', ''):policy_params[k] for k in policy_params}\n",
    "print(policy_params.keys())\n",
    "\n",
    "mean_base.load_state_dict(policy_params)\n",
    "mean_base.requires_grad_(False)\n",
    "print(mean_base)"
   ]
  },
  {
   "cell_type": "code",
   "execution_count": 63,
   "metadata": {},
   "outputs": [],
   "source": [
    "# We need to somehow load this in through the omnisafe system\n",
    "# The easiest way would be to use configs:\n",
    "custom_cfgs = {\n",
    "    'model_cfgs': {\n",
    "        'actor_type': 'projected_gaussian_learning',\n",
    "        'cp_beta': 1.1,\n",
    "        'base_policy_dir': 'tests/saved_source/PPO-{SafetyPointGoal1-v0}/seed-000-2023-03-16-12-08-52',\n",
    "    },\n",
    "}\n",
    "# Assume the base policy dir is relative to the main omnisafe folder\n",
    "# The loading will then get done from within the projected gaussian learning actor class"
   ]
  },
  {
   "cell_type": "code",
   "execution_count": 64,
   "metadata": {},
   "outputs": [
    {
     "name": "stdout",
     "output_type": "stream",
     "text": [
      "{'model_cfgs': {'actor_type': 'projected_gaussian_learning', 'cp_beta': 1.1, 'base_policy_dir': 'tests/saved_source/PPO-{SafetyPointGoal1-v0}/seed-000-2023-03-16-12-08-52'}}\n"
     ]
    }
   ],
   "source": [
    "print(custom_cfgs)"
   ]
  },
  {
   "cell_type": "code",
   "execution_count": null,
   "metadata": {},
   "outputs": [],
   "source": [
    "# Don't try to run this, doesn't work yet\n",
    "agent = omnisafe.Agent('PPO', 'SafetyPointGoal1-v0', custom_cfgs=custom_cfgs)"
   ]
  },
  {
   "cell_type": "code",
   "execution_count": 58,
   "metadata": {},
   "outputs": [
    {
     "name": "stdout",
     "output_type": "stream",
     "text": [
      "False\n",
      "True\n"
     ]
    }
   ],
   "source": [
    "x = ''\n",
    "y = 'f'\n",
    "print(bool(x))\n",
    "print(bool(y))"
   ]
  },
  {
   "cell_type": "code",
   "execution_count": 61,
   "metadata": {},
   "outputs": [
    {
     "ename": "AssertionError",
     "evalue": "string should be non-empty",
     "output_type": "error",
     "traceback": [
      "\u001b[0;31m---------------------------------------------------------------------------\u001b[0m",
      "\u001b[0;31mAssertionError\u001b[0m                            Traceback (most recent call last)",
      "Cell \u001b[0;32mIn[61], line 1\u001b[0m\n\u001b[0;32m----> 1\u001b[0m \u001b[38;5;28;01massert\u001b[39;00m x, \u001b[38;5;124m\"\u001b[39m\u001b[38;5;124mstring should be non-empty\u001b[39m\u001b[38;5;124m\"\u001b[39m\n",
      "\u001b[0;31mAssertionError\u001b[0m: string should be non-empty"
     ]
    }
   ],
   "source": [
    "assert x, \"string should be non-empty\""
   ]
  },
  {
   "cell_type": "code",
   "execution_count": 62,
   "metadata": {},
   "outputs": [],
   "source": [
    "assert y, \"string should be non-empty\""
   ]
  }
 ],
 "metadata": {
  "kernelspec": {
   "display_name": "rl-safety-filters",
   "language": "python",
   "name": "python3"
  },
  "language_info": {
   "codemirror_mode": {
    "name": "ipython",
    "version": 3
   },
   "file_extension": ".py",
   "mimetype": "text/x-python",
   "name": "python",
   "nbconvert_exporter": "python",
   "pygments_lexer": "ipython3",
   "version": "3.10.14"
  }
 },
 "nbformat": 4,
 "nbformat_minor": 2
}
