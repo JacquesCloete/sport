{
 "cells": [
  {
   "cell_type": "markdown",
   "metadata": {},
   "source": [
    "# Convex Minimization Timing\n",
    "\n",
    "This notbook is used to time how long it takes to run the solver for the optimization problem, using DCP and DPP."
   ]
  },
  {
   "cell_type": "code",
   "execution_count": 17,
   "metadata": {},
   "outputs": [],
   "source": [
    "import numpy as np\n",
    "import cvxpy as cp\n",
    "import time"
   ]
  },
  {
   "cell_type": "code",
   "execution_count": 18,
   "metadata": {},
   "outputs": [],
   "source": [
    "times_dcp = np.zeros(10)\n",
    "times_dpp = np.zeros(10)"
   ]
  },
  {
   "cell_type": "code",
   "execution_count": 105,
   "metadata": {},
   "outputs": [],
   "source": [
    "# Setup\n",
    "ACT_DIM = 10 # action space dimensions\n",
    "ETA = 1e-8 # used to enforce strict inequality\n",
    "\n",
    "beta = cp.Parameter() # (> 1) constraint on maximum policy ratio\n",
    "\n",
    "# safe policy (cvxpy parameters)\n",
    "mu_safe = cp.Parameter(ACT_DIM)\n",
    "sigma_safe = cp.Parameter(ACT_DIM, pos=True)\n",
    "\n",
    "# task policy (cvxpy parameters)\n",
    "mu_task = cp.Parameter(ACT_DIM)\n",
    "sigma_task = cp.Parameter(ACT_DIM, pos=True)\n",
    "\n",
    "# projected policy (cvxpy variables)\n",
    "mu_proj = cp.Variable(ACT_DIM)\n",
    "sigma_proj = cp.Variable(ACT_DIM, pos=True)\n",
    "\n",
    "\n",
    "# Additional variables/parameters for DPP\n",
    "# safe policy (cvxpy parameters)\n",
    "sigma_safe_inv = cp.Parameter(ACT_DIM, pos=True) # 1/sigma_safe\n",
    "sigma_sigma_safe = cp.Parameter(ACT_DIM, pos=True) # sigma_safe^2\n",
    "\n",
    "# task policy (cvxpy parameters)\n",
    "sigma_task_inv = cp.Parameter(ACT_DIM, pos=True) # 1/sigma_task\n",
    "mu_sigma_task = cp.Parameter(ACT_DIM) # mu_task/sigma_task\n",
    "mu_sigma_sigma_task = cp.Parameter(ACT_DIM)   # mu_task/(sigma_task)^2\n",
    "\n",
    "# sum term (cvxpy variables)\n",
    "mu_safe_var = cp.Variable(ACT_DIM)   # mu_safe\n",
    "sigma_sigma_safe_var = cp.Variable(ACT_DIM, pos=True)   # sigma_safe^2"
   ]
  },
  {
   "cell_type": "code",
   "execution_count": 106,
   "metadata": {},
   "outputs": [],
   "source": [
    "# Problem definition\n",
    "objective_dcp = cp.Minimize(-2*cp.sum(cp.log(sigma_proj)) +  cp.sum_squares(sigma_proj/sigma_task) + cp.sum_squares((mu_proj - mu_task)/sigma_task))\n",
    "\n",
    "constraints_dcp = []\n",
    "\n",
    "constraint_1_dcp = sigma_proj + ETA <= sigma_safe\n",
    "constraints_dcp.append(constraint_1_dcp)\n",
    "\n",
    "sum_term_dcp = 0    # we define the sum term like this so that we can use quad_over_lin and thus allow the problem to be DCP (standard quotient operator is not DCP)\n",
    "for i in range(0, ACT_DIM):\n",
    "    sum_term_dcp += cp.quad_over_lin(mu_proj[i] - mu_safe[i],cp.square(sigma_safe[i]) - cp.square(sigma_proj[i]))   # note that numerator gets squared (which we want)\n",
    "\n",
    "constraint_2_dcp = cp.sum(cp.log(sigma_safe)) - cp.sum(cp.log(sigma_proj)) + (1/2)*sum_term_dcp <= cp.log(beta)\n",
    "constraints_dcp.append(constraint_2_dcp)\n",
    "\n",
    "prob_dcp = cp.Problem(objective_dcp, constraints_dcp)"
   ]
  },
  {
   "cell_type": "code",
   "execution_count": 107,
   "metadata": {},
   "outputs": [],
   "source": [
    "# Problem re-definition as DPP\n",
    "objective_dpp = cp.Minimize(-2*cp.sum(cp.log(sigma_proj)) +  cp.sum_squares(cp.multiply(sigma_proj,sigma_task_inv)) + cp.sum_squares(cp.multiply(mu_proj,sigma_task_inv)) - 2*cp.sum(cp.multiply(mu_proj, mu_sigma_sigma_task)) + cp.sum_squares(mu_sigma_task))\n",
    "\n",
    "constraints_dpp = []\n",
    "\n",
    "constraint_1_dpp = sigma_proj + ETA <= sigma_safe\n",
    "constraints_dpp.append(constraint_1_dpp)\n",
    "\n",
    "sum_term_dpp = 0    # we define the sum term like this so that we can use quad_over_lin and thus allow the problem to be DCP (standard quotient operator is not DCP)\n",
    "for i in range(0, ACT_DIM):\n",
    "    sum_term_dpp += cp.quad_over_lin(mu_proj[i] - mu_safe_var[i],sigma_sigma_safe_var[i] - cp.square(sigma_proj[i]))   # note that numerator gets squared (which we want)\n",
    "\n",
    "constraint_2_dpp = -cp.sum(cp.log(sigma_safe_inv)) - cp.sum(cp.log(sigma_proj)) + (1/2)*sum_term_dpp <= cp.log(beta)\n",
    "constraints_dpp.append(constraint_2_dpp)\n",
    "\n",
    "constraint_3_dpp = mu_safe_var == mu_safe\n",
    "constraints_dpp.append(constraint_3_dpp)\n",
    "\n",
    "constraint_4_dpp = sigma_sigma_safe_var == sigma_sigma_safe\n",
    "constraints_dpp.append(constraint_4_dpp)\n",
    "\n",
    "prob_dpp = cp.Problem(objective_dpp, constraints_dpp)"
   ]
  },
  {
   "cell_type": "code",
   "execution_count": 108,
   "metadata": {},
   "outputs": [],
   "source": [
    "# Generate examples\n",
    "beta.value = 1.1 # (> 1) constraint on maximum policy ratio\n",
    "\n",
    "STRAY_FACTOR = 0.05 # factor on how far the task policy strays from the safe policy\n",
    "\n",
    "N = 1000 # no. examples\n",
    "\n",
    "mu_safe_list = []\n",
    "sigma_safe_list = []\n",
    "\n",
    "mu_task_list = []\n",
    "sigma_task_list = []\n",
    "\n",
    "sigma_safe_inv_list = []\n",
    "sigma_sigma_safe_list = []\n",
    "\n",
    "sigma_task_inv_list = []\n",
    "mu_sigma_task_list = []\n",
    "mu_sigma_sigma_task_list = []\n",
    "\n",
    "for i in range(0,N):\n",
    "    # safe policy\n",
    "    mu_safe_list.append(np.random.randn(ACT_DIM))\n",
    "    sigma_safe_list.append(np.random.rayleigh(scale=0.5,size=ACT_DIM)) # > 0\n",
    "\n",
    "    # task policy\n",
    "    mu_task_list.append(mu_safe_list[i] + STRAY_FACTOR*np.random.randn(ACT_DIM)) # put task policy mean somewhere fairly close to safe policy mean\n",
    "    sigma_task_list.append(sigma_safe_list[i] - np.minimum(STRAY_FACTOR*sigma_safe_list[i]*np.random.rayleigh(scale=0.5,size=ACT_DIM),sigma_safe_list[i]-ETA))  # put task policy stdev somewhere fairly close to but less than safe policy stdev (and > 0)\n",
    "\n",
    "    # Set additional DPP parameters for examples\n",
    "\n",
    "    sigma_safe_inv_list.append(1/sigma_safe_list[i]) # 1/sigma_safe\n",
    "    sigma_sigma_safe_list.append(np.square(sigma_safe_list[i])) # sigma_safe^2\n",
    "\n",
    "    # task policy (cvxpy parameters)\n",
    "    sigma_task_inv_list.append(1/sigma_task_list[i]) # 1/sigma_task\n",
    "    mu_sigma_task_list.append(mu_task_list[i]/sigma_task_list[i]) # mu_task/sigma_task\n",
    "    mu_sigma_sigma_task_list.append(mu_task_list[i]/np.square(sigma_task_list[i]))   # mu_task/(sigma_task)^2"
   ]
  },
  {
   "cell_type": "code",
   "execution_count": 109,
   "metadata": {},
   "outputs": [
    {
     "name": "stderr",
     "output_type": "stream",
     "text": [
      "/home/jacques/miniconda3/envs/cvxpy_env/lib/python3.12/site-packages/cvxpy/reductions/solvers/solving_chain.py:237: UserWarning: You are solving a parameterized problem that is not DPP. Because the problem is not DPP, subsequent solves will not be faster than the first one. For more information, see the documentation on Disciplined Parametrized Programming, at https://www.cvxpy.org/tutorial/dpp/index.html\n",
      "  warnings.warn(DPP_ERROR_MSG)\n"
     ]
    },
    {
     "name": "stdout",
     "output_type": "stream",
     "text": [
      "0.035763978242874146\n"
     ]
    }
   ],
   "source": [
    "# Time DCP\n",
    "\n",
    "t0_dcp = time.time()\n",
    "for i in range(0,N):\n",
    "    mu_safe.value = mu_safe_list[i]\n",
    "    sigma_safe.value = sigma_safe_list[i]\n",
    "\n",
    "    mu_task.value = mu_task_list[i]\n",
    "    sigma_task.value = sigma_task_list[i]\n",
    "\n",
    "    sigma_safe_inv.value = sigma_safe_inv_list[i]\n",
    "    sigma_sigma_safe.value = sigma_sigma_safe_list[i]\n",
    "\n",
    "    sigma_task_inv.value = sigma_task_inv_list[i]\n",
    "    mu_sigma_task.value = mu_sigma_task_list[i]\n",
    "    mu_sigma_sigma_task.value = mu_sigma_sigma_task_list[i]\n",
    "\n",
    "    # warm start as safe policy\n",
    "    # bad idea since sigma_proj = sigma_safe messes things up\n",
    "    # mu_proj.value = mu_safe_list[i]\n",
    "    # sigma_proj.value = sigma_safe_list[i]\n",
    "    # mu_safe_var.value = mu_safe_list[i]\n",
    "    # sigma_sigma_safe_var.value = np.square(sigma_safe_list[i])\n",
    "\n",
    "    result = prob_dcp.solve()\n",
    "    # result = prob_dcp.solve(warm_start=True)\n",
    "t1_dcp = time.time()\n",
    "\n",
    "time_avg_dcp = (t1_dcp - t0_dcp)/N\n",
    "print((time_avg_dcp))\n",
    "\n",
    "times_dcp[ACT_DIM-1] = time_avg_dcp\n",
    "# times_dcp = np.append(times_dcp,time_avg_dcp)"
   ]
  },
  {
   "cell_type": "code",
   "execution_count": 110,
   "metadata": {},
   "outputs": [
    {
     "name": "stdout",
     "output_type": "stream",
     "text": [
      "0.0031546132564544676\n"
     ]
    }
   ],
   "source": [
    "# Time DPP\n",
    "\n",
    "t0_dpp = time.time()\n",
    "for i in range(0,N):\n",
    "    mu_safe.value = mu_safe_list[i]\n",
    "    sigma_safe.value = sigma_safe_list[i]\n",
    "\n",
    "    mu_task.value = mu_task_list[i]\n",
    "    sigma_task.value = sigma_task_list[i]\n",
    "\n",
    "    sigma_safe_inv.value = sigma_safe_inv_list[i]\n",
    "    sigma_sigma_safe.value = sigma_sigma_safe_list[i]\n",
    "\n",
    "    sigma_task_inv.value = sigma_task_inv_list[i]\n",
    "    mu_sigma_task.value = mu_sigma_task_list[i]\n",
    "    mu_sigma_sigma_task.value = mu_sigma_sigma_task_list[i]\n",
    "\n",
    "    # warm start as safe policy\n",
    "    # bad idea since sigma_proj = sigma_safe messes things up\n",
    "    # mu_proj.value = mu_safe_list[i]\n",
    "    # sigma_proj.value = sigma_safe_list[i]\n",
    "    # mu_safe_var.value = mu_safe_list[i]\n",
    "    # sigma_sigma_safe_var.value = np.square(sigma_safe_list[i])\n",
    "\n",
    "    result = prob_dpp.solve()\n",
    "    # result = prob_dpp.solve(warm_start=True)\n",
    "t1_dpp = time.time()\n",
    "\n",
    "time_avg_dpp = (t1_dpp - t0_dpp)/N\n",
    "print((time_avg_dpp))\n",
    "\n",
    "times_dpp[ACT_DIM-1] = time_avg_dpp\n",
    "# times_dpp = np.append(times_dpp,time_avg_dpp)"
   ]
  },
  {
   "cell_type": "code",
   "execution_count": 69,
   "metadata": {},
   "outputs": [],
   "source": [
    "import matplotlib.pyplot as plt"
   ]
  },
  {
   "cell_type": "code",
   "execution_count": 113,
   "metadata": {},
   "outputs": [
    {
     "data": {
      "image/png": "[encoded data removed]",
      "text/plain": [
       "<Figure size 640x480 with 1 Axes>"
      ]
     },
     "metadata": {},
     "output_type": "display_data"
    }
   ],
   "source": [
    "n = np.arange(1,11)\n",
    "plt.minorticks_on()\n",
    "plt.plot(n, times_dcp, label=\"DCP\")\n",
    "plt.plot(n, times_dpp, label=\"DPP\")\n",
    "plt.legend()\n",
    "plt.xlabel(\"No. Action Space Dimensions\")\n",
    "plt.ylabel(\"Avg. Time to Solve over 1000 Examples (s)\")\n",
    "plt.grid(which=\"minor\", axis=\"y\", linestyle=\"--\")\n",
    "plt.grid(which=\"major\", linestyle=\"-\", color=\"gray\")\n",
    "plt.xticks(np.arange(min(n), max(n)+1, 1.0))\n",
    "plt.tick_params(which='minor', bottom=False)\n",
    "plt.show()"
   ]
  },
  {
   "cell_type": "code",
   "execution_count": 117,
   "metadata": {},
   "outputs": [
    {
     "name": "stdout",
     "output_type": "stream",
     "text": [
      "[-1.34393298 -0.42234902 -0.12819579  0.40647794  0.45558529  1.30151\n",
      " -0.25131662 -0.75443852  0.35279752  0.9131592 ]\n",
      "[-1.34393294 -0.43038593 -0.12819582  0.40647795  0.45558528  1.30436552\n",
      " -0.25321511 -0.77792684  0.35279768  0.9131592 ]\n",
      "[-1.30487541 -0.45787663 -0.17600904  0.44467768  0.43306094  1.31561478\n",
      " -0.30724842 -0.86411184  0.44907718  0.91729752]\n",
      "[0.43161192 0.21678157 0.92133534 1.00301918 0.87074775 0.4132179\n",
      " 0.54146139 0.63938115 0.81946146 0.40391459]\n",
      "[0.43161189 0.2123759  0.9213353  1.00301916 0.87074771 0.40660868\n",
      " 0.54015615 0.62710255 0.81946137 0.40391457]\n",
      "[0.42108628 0.20954204 0.88873709 0.98863082 0.83572374 0.3807335\n",
      " 0.52229667 0.62241088 0.80841563 0.39658897]\n"
     ]
    }
   ],
   "source": [
    "# Check solutions are still sensible for high no. action space dimensions\n",
    "print(mu_safe.value)\n",
    "print(mu_proj.value)\n",
    "print(mu_task.value)\n",
    "\n",
    "print(sigma_safe.value)\n",
    "print(sigma_proj.value)\n",
    "print(sigma_task.value)"
   ]
  }
 ],
 "metadata": {
  "kernelspec": {
   "display_name": "cvxpy_env",
   "language": "python",
   "name": "python3"
  },
  "language_info": {
   "codemirror_mode": {
    "name": "ipython",
    "version": 3
   },
   "file_extension": ".py",
   "mimetype": "text/x-python",
   "name": "python",
   "nbconvert_exporter": "python",
   "pygments_lexer": "ipython3",
   "version": "3.12.4"
  }
 },
 "nbformat": 4,
 "nbformat_minor": 2
}
