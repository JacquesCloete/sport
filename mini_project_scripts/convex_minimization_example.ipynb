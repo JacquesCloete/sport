{
 "cells": [
  {
   "cell_type": "markdown",
   "metadata": {},
   "source": [
    "# Convex Minimization Example\n",
    "This notebook demonstrates how to solve the convex minimization problem in the proposed algorithm."
   ]
  },
  {
   "cell_type": "code",
   "execution_count": 1,
   "metadata": {},
   "outputs": [],
   "source": [
    "import numpy as np\n",
    "import cvxpy as cp"
   ]
  },
  {
   "cell_type": "code",
   "execution_count": 2,
   "metadata": {},
   "outputs": [],
   "source": [
    "# Setup\n",
    "ACT_DIM = 2 # action space dimensions\n",
    "ETA = 1e-8 # used to enforce strict inequality\n",
    "\n",
    "beta = cp.Parameter() # (> 1) constraint on maximum policy ratio\n",
    "\n",
    "# safe policy (cvxpy parameters)\n",
    "mu_safe = cp.Parameter(ACT_DIM)\n",
    "sigma_safe = cp.Parameter(ACT_DIM, pos=True)\n",
    "\n",
    "# task policy (cvxpy parameters)\n",
    "mu_task = cp.Parameter(ACT_DIM)\n",
    "sigma_task = cp.Parameter(ACT_DIM, pos=True)\n",
    "\n",
    "# projected policy (cvxpy variables)\n",
    "mu_proj = cp.Variable(ACT_DIM)\n",
    "sigma_proj = cp.Variable(ACT_DIM, pos=True)"
   ]
  },
  {
   "cell_type": "code",
   "execution_count": 3,
   "metadata": {},
   "outputs": [
    {
     "name": "stdout",
     "output_type": "stream",
     "text": [
      "True\n",
      "True\n",
      "True\n",
      "True\n"
     ]
    }
   ],
   "source": [
    "# Problem definition\n",
    "objective_dcp = cp.Minimize(-2*cp.sum(cp.log(sigma_proj)) +  cp.sum_squares(sigma_proj/sigma_task) + cp.sum_squares((mu_proj - mu_task)/sigma_task))\n",
    "\n",
    "constraints_dcp = []\n",
    "\n",
    "constraint_1_dcp = sigma_proj + ETA <= sigma_safe\n",
    "constraints_dcp.append(constraint_1_dcp)\n",
    "\n",
    "sum_term_dcp = 0    # we define the sum term like this so that we can use quad_over_lin and thus allow the problem to be DCP (standard quotient operator is not DCP)\n",
    "for i in range(0, ACT_DIM):\n",
    "    sum_term_dcp += cp.quad_over_lin(mu_proj[i] - mu_safe[i],cp.square(sigma_safe[i]) - cp.square(sigma_proj[i]))   # note that numerator gets squared (which we want)\n",
    "\n",
    "constraint_2_dcp = cp.sum(cp.log(sigma_safe)) - cp.sum(cp.log(sigma_proj)) + (1/2)*sum_term_dcp <= cp.log(beta)\n",
    "constraints_dcp.append(constraint_2_dcp)\n",
    "\n",
    "prob_dcp = cp.Problem(objective_dcp, constraints_dcp)\n",
    "\n",
    "# Check problem is DCP\n",
    "CHECK_DPP = False\n",
    "print(objective_dcp.is_dcp(dpp=CHECK_DPP))\n",
    "print(constraint_1_dcp.is_dcp(dpp=CHECK_DPP))\n",
    "print(constraint_2_dcp.is_dcp(dpp=CHECK_DPP))\n",
    "print(prob_dcp.is_dcp(dpp=CHECK_DPP))"
   ]
  },
  {
   "cell_type": "code",
   "execution_count": 4,
   "metadata": {},
   "outputs": [],
   "source": [
    "# Generate examples\n",
    "beta.value = 1.1 # (> 1) constraint on maximum policy ratio\n",
    "\n",
    "STRAY_FACTOR = 0.05 # factor on how far the task policy strays from the safe policy\n",
    "\n",
    "# safe policy\n",
    "mu_safe.value = np.random.randn(ACT_DIM)\n",
    "sigma_safe.value = np.random.exponential(size=ACT_DIM) # > 0\n",
    "\n",
    "# task policy\n",
    "mu_task.value = mu_safe.value + STRAY_FACTOR*np.random.randn(ACT_DIM) # put task policy mean somewhere fairly close to safe policy mean\n",
    "sigma_task.value = sigma_safe.value - np.minimum(STRAY_FACTOR*sigma_safe.value*np.random.exponential(size=ACT_DIM),sigma_safe.value-ETA)  # put task policy stdev somewhere fairly close to but less than safe policy stdev (and > 0)"
   ]
  },
  {
   "cell_type": "code",
   "execution_count": 5,
   "metadata": {},
   "outputs": [
    {
     "name": "stdout",
     "output_type": "stream",
     "text": [
      "[0.46542142 0.1511575 ] [1.09342264 0.49916695]\n",
      "[0.52169365 0.11696709] [0.98159105 0.4821729 ]\n",
      "[0.50336615 0.14232152] [1.01787082 0.49263555]\n"
     ]
    },
    {
     "name": "stderr",
     "output_type": "stream",
     "text": [
      "/home/jacques/miniconda3/envs/cvxpy_env/lib/python3.12/site-packages/cvxpy/reductions/solvers/solving_chain.py:237: UserWarning: You are solving a parameterized problem that is not DPP. Because the problem is not DPP, subsequent solves will not be faster than the first one. For more information, see the documentation on Disciplined Parametrized Programming, at https://www.cvxpy.org/tutorial/dpp/index.html\n",
      "  warnings.warn(DPP_ERROR_MSG)\n"
     ]
    }
   ],
   "source": [
    "# Solve problem\n",
    "result = prob_dcp.solve()\n",
    "print(mu_safe.value, sigma_safe.value)\n",
    "print(mu_task.value, sigma_task.value)\n",
    "print(mu_proj.value, sigma_proj.value)"
   ]
  },
  {
   "cell_type": "code",
   "execution_count": 6,
   "metadata": {},
   "outputs": [],
   "source": [
    "# Additional variables/parameters for DPP\n",
    "# safe policy (cvxpy parameters)\n",
    "sigma_safe_inv = cp.Parameter(ACT_DIM, pos=True) # 1/sigma_safe\n",
    "sigma_sigma_safe = cp.Parameter(ACT_DIM, pos=True) # sigma_safe^2\n",
    "\n",
    "# task policy (cvxpy parameters)\n",
    "sigma_task_inv = cp.Parameter(ACT_DIM, pos=True) # 1/sigma_task\n",
    "mu_sigma_task = cp.Parameter(ACT_DIM, pos=True) # mu_task/sigma_task\n",
    "mu_sigma_sigma_task = cp.Parameter(ACT_DIM, pos=True)   # mu_task/(sigma_task)^2\n",
    "\n",
    "# sum term (cvxpy variables)\n",
    "mu_safe_var = cp.Variable(ACT_DIM)   # mu_safe\n",
    "sigma_sigma_safe_var = cp.Variable(ACT_DIM, pos=True)   # sigma_safe^2"
   ]
  },
  {
   "cell_type": "code",
   "execution_count": 7,
   "metadata": {},
   "outputs": [
    {
     "name": "stdout",
     "output_type": "stream",
     "text": [
      "True\n",
      "True\n",
      "True\n",
      "True\n",
      "True\n",
      "True\n"
     ]
    }
   ],
   "source": [
    "# Problem re-definition as DPP\n",
    "objective_dpp = cp.Minimize(-2*cp.sum(cp.log(sigma_proj)) +  cp.sum_squares(cp.multiply(sigma_proj,sigma_task_inv)) + cp.sum_squares(cp.multiply(mu_proj,sigma_task_inv)) - 2*cp.sum(cp.multiply(mu_proj, mu_sigma_sigma_task)) + cp.sum_squares(mu_sigma_task))\n",
    "\n",
    "constraints_dpp = []\n",
    "\n",
    "constraint_1_dpp = sigma_proj + ETA <= sigma_safe\n",
    "constraints_dpp.append(constraint_1_dpp)\n",
    "\n",
    "sum_term_dpp = 0    # we define the sum term like this so that we can use quad_over_lin and thus allow the problem to be DCP (standard quotient operator is not DCP)\n",
    "for i in range(0, ACT_DIM):\n",
    "    sum_term_dpp += cp.quad_over_lin(mu_proj[i] - mu_safe_var[i],sigma_sigma_safe_var[i] - cp.square(sigma_proj[i]))   # note that numerator gets squared (which we want)\n",
    "\n",
    "constraint_2_dpp = -cp.sum(cp.log(sigma_safe_inv)) - cp.sum(cp.log(sigma_proj)) + (1/2)*sum_term_dpp <= cp.log(beta)\n",
    "constraints_dpp.append(constraint_2_dpp)\n",
    "\n",
    "constraint_3_dpp = mu_safe_var == mu_safe\n",
    "constraints_dpp.append(constraint_3_dpp)\n",
    "\n",
    "constraint_4_dpp = sigma_sigma_safe_var == sigma_sigma_safe\n",
    "constraints_dpp.append(constraint_4_dpp)\n",
    "\n",
    "prob_dpp = cp.Problem(objective_dpp, constraints_dpp)\n",
    "\n",
    "# Check problem is DPP\n",
    "CHECK_DPP = True\n",
    "print(objective_dpp.is_dcp(dpp=CHECK_DPP))\n",
    "print(constraint_1_dpp.is_dcp(dpp=CHECK_DPP))\n",
    "print(constraint_2_dpp.is_dcp(dpp=CHECK_DPP))\n",
    "print(constraint_3_dpp.is_dcp(dpp=CHECK_DPP))\n",
    "print(constraint_4_dpp.is_dcp(dpp=CHECK_DPP))\n",
    "print(prob_dpp.is_dcp(dpp=CHECK_DPP))"
   ]
  },
  {
   "cell_type": "code",
   "execution_count": 8,
   "metadata": {},
   "outputs": [],
   "source": [
    "# Set additional DPP parameters for examples\n",
    "\n",
    "sigma_safe_inv.value = 1/sigma_safe.value # 1/sigma_safe\n",
    "sigma_sigma_safe.value = np.square(sigma_safe.value) # sigma_safe^2\n",
    "\n",
    "# task policy (cvxpy parameters)\n",
    "sigma_task_inv.value = 1/sigma_task.value # 1/sigma_task\n",
    "mu_sigma_task.value = mu_task.value/sigma_task.value # mu_task/sigma_task\n",
    "mu_sigma_sigma_task.value = mu_task.value/np.square(sigma_task.value)   # mu_task/(sigma_task)^2"
   ]
  },
  {
   "cell_type": "code",
   "execution_count": 9,
   "metadata": {},
   "outputs": [
    {
     "name": "stdout",
     "output_type": "stream",
     "text": [
      "[0.46542142 0.1511575 ] [1.09342264 0.49916695]\n",
      "[0.52169365 0.11696709] [0.98159105 0.4821729 ]\n",
      "[0.50336385 0.14232261] [1.01786904 0.49263522]\n"
     ]
    }
   ],
   "source": [
    "# Solve problem\n",
    "result = prob_dpp.solve()\n",
    "print(mu_safe.value, sigma_safe.value)\n",
    "print(mu_task.value, sigma_task.value)\n",
    "print(mu_proj.value, sigma_proj.value)"
   ]
  },
  {
   "cell_type": "code",
   "execution_count": null,
   "metadata": {},
   "outputs": [],
   "source": [
    "# Failed attempt (is not DCP)\n",
    "\n",
    "alpha = cp.Variable(ACT_DIM, pos=True) # slack variable used to make problem DCP\n",
    "log_mu_difference = cp.Variable(ACT_DIM, pos=True) # slack variable used to make problem DCP\n",
    "\n",
    "objective = cp.Minimize(-2*cp.sum(cp.log(sigma_proj)) +  cp.sum_squares(sigma_proj/sigma_task) + cp.sum_squares((mu_proj - mu_task)/sigma_task))\n",
    "constraints = []\n",
    "constraint_1 = sigma_proj + eta <= sigma_safe\n",
    "constraints.append(constraint_1)\n",
    "# constraint_2 = cp.exp(1/2*cp.square(mu_proj - mu_safe)/(cp.square(sigma_safe) - cp.square(sigma_proj))) <= beta*sigma_proj/sigma_safe\n",
    "# constraint_2 = cp.sum(cp.log(sigma_safe)) - cp.sum(cp.log(sigma_proj)) + (1/2)*cp.sum(cp.square(mu_proj-mu_safe)) <= cp.log(beta)\n",
    "constraint_2 = cp.sum(cp.log(sigma_safe)) - cp.sum(cp.log(sigma_proj)) + (1/2)*cp.sum(alpha) <= cp.log(beta) # need slack variable alpha to handle the summands of the sum term\n",
    "constraints.append(constraint_2)\n",
    "# constraint_3 = 2*cp.log(mu_proj - mu_safe) - cp.log(cp.square(sigma_safe) - cp.square(sigma_proj)) <= cp.log(alpha)\n",
    "constraint_3 = 2*log_mu_difference - cp.log(cp.square(sigma_safe) - cp.square(sigma_proj)) <= cp.log(alpha) # need to add slack variable log_mu_difference to make DCP (convex <= concave)\n",
    "constraints.append(constraint_3)\n",
    "constraint_4 = mu_proj - mu_safe <= cp.exp(log_mu_difference) # not DCP because we need convex <= concave but the RHS is convex (taking logs leads to a similar problem)\n",
    "constraints.append(constraint_4)\n",
    "# constraints = [cp.prod(cp.exp(1/2*cp.square(mu_proj - mu_safe)/(cp.square(sigma_safe) - cp.square(sigma_proj)))) <= beta*cp.prod(sigma_proj/sigma_safe), sigma_proj + eta <= sigma_safe]\n",
    "prob = cp.Problem(objective, constraints)\n",
    "\n",
    "print(objective.is_dcp())\n",
    "print(constraint_1.is_dcp())\n",
    "print(constraint_2.is_dcp())\n",
    "print(constraint_3.is_dcp())\n",
    "print(constraint_4.is_dcp())"
   ]
  }
 ],
 "metadata": {
  "kernelspec": {
   "display_name": "cvxpy_env",
   "language": "python",
   "name": "python3"
  },
  "language_info": {
   "codemirror_mode": {
    "name": "ipython",
    "version": 3
   },
   "file_extension": ".py",
   "mimetype": "text/x-python",
   "name": "python",
   "nbconvert_exporter": "python",
   "pygments_lexer": "ipython3",
   "version": "3.12.4"
  }
 },
 "nbformat": 4,
 "nbformat_minor": 2
}
