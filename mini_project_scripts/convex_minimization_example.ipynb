{
 "cells": [
  {
   "cell_type": "markdown",
   "metadata": {},
   "source": [
    "# Convex Minimization Example\n",
    "This script demonstrates the convex minimization problem in the proposed algorithm."
   ]
  },
  {
   "cell_type": "code",
   "execution_count": 1,
   "metadata": {},
   "outputs": [],
   "source": [
    "import numpy as np\n",
    "import cvxpy as cp"
   ]
  },
  {
   "cell_type": "code",
   "execution_count": 309,
   "metadata": {},
   "outputs": [],
   "source": [
    "# Setup\n",
    "ACT_DIM = 2 # action space dimensions\n",
    "ETA = 1e-8 # used to enforce strict inequality\n",
    "\n",
    "beta = cp.Parameter() # (> 1) constraint on maximum policy ratio\n",
    "\n",
    "# safe policy (cvxpy parameters)\n",
    "mu_safe = cp.Parameter(ACT_DIM)\n",
    "sigma_safe = cp.Parameter(ACT_DIM, pos=True)\n",
    "\n",
    "# task policy (cvxpy parameters)\n",
    "mu_task = cp.Parameter(ACT_DIM)\n",
    "sigma_task = cp.Parameter(ACT_DIM, pos=True)\n",
    "\n",
    "# projected policy (cvxpy variables)\n",
    "mu_proj = cp.Variable(ACT_DIM)\n",
    "sigma_proj = cp.Variable(ACT_DIM, pos=True)"
   ]
  },
  {
   "cell_type": "code",
   "execution_count": 325,
   "metadata": {},
   "outputs": [
    {
     "name": "stdout",
     "output_type": "stream",
     "text": [
      "False\n",
      "True\n",
      "False\n",
      "False\n"
     ]
    }
   ],
   "source": [
    "# Problem definition\n",
    "objective = cp.Minimize(-2*cp.sum(cp.log(sigma_proj)) +  cp.sum_squares(sigma_proj/sigma_task) + cp.sum_squares((mu_proj - mu_task)/sigma_task))\n",
    "\n",
    "constraints = []\n",
    "\n",
    "constraint_1 = sigma_proj + ETA <= sigma_safe\n",
    "constraints.append(constraint_1)\n",
    "\n",
    "sum_term = 0    # we define the sum term like this so that we can use quad_over_lin and thus allow the problem to be DCP (standard quotient operator is not DCP)\n",
    "for i in range(0, ACT_DIM):\n",
    "    sum_term += cp.quad_over_lin(mu_proj[i] - mu_safe[i],cp.square(sigma_safe[i]) - cp.square(sigma_proj[i]))   # note that numerator gets squared (which we want)\n",
    "\n",
    "constraint_2 = cp.sum(cp.log(sigma_safe)) - cp.sum(cp.log(sigma_proj)) + (1/2)*sum_term <= cp.log(beta)\n",
    "constraints.append(constraint_2)\n",
    "\n",
    "prob = cp.Problem(objective, constraints)\n",
    "\n",
    "# Check problem is DCP (or DPP)\n",
    "CHECK_DPP = True\n",
    "print(objective.is_dcp(dpp=CHECK_DPP))\n",
    "print(constraint_1.is_dcp(dpp=CHECK_DPP))\n",
    "print(constraint_2.is_dcp(dpp=CHECK_DPP))\n",
    "print(prob.is_dcp(dpp=CHECK_DPP))"
   ]
  },
  {
   "cell_type": "code",
   "execution_count": 328,
   "metadata": {},
   "outputs": [],
   "source": [
    "# Generate examples\n",
    "beta.value = 1.1 # (> 1) constraint on maximum policy ratio\n",
    "\n",
    "STRAY_FACTOR = 0.05 # factor on how far the task policy strays from the safe policy\n",
    "\n",
    "# safe policy\n",
    "mu_safe.value = np.random.randn(ACT_DIM)\n",
    "sigma_safe.value = np.random.exponential(size=ACT_DIM) # > 0\n",
    "\n",
    "# task policy\n",
    "mu_task.value = mu_safe.value + STRAY_FACTOR*np.random.randn(ACT_DIM) # put task policy mean somewhere fairly close to safe policy mean\n",
    "sigma_task.value = sigma_safe.value - np.minimum(STRAY_FACTOR*sigma_safe.value*np.random.exponential(size=ACT_DIM),sigma_safe.value-ETA)  # put task policy stdev somewhere fairly close to but less than safe policy stdev (and > 0)"
   ]
  },
  {
   "cell_type": "code",
   "execution_count": 329,
   "metadata": {},
   "outputs": [
    {
     "name": "stdout",
     "output_type": "stream",
     "text": [
      "[-0.10747857  0.07784673] [0.15652598 2.10122467]\n",
      "[-0.14160945  0.04111572] [0.15570198 2.08318979]\n",
      "[-0.12167259  0.07784672] [0.15102287 2.1012246 ]\n"
     ]
    }
   ],
   "source": [
    "# Solve problem\n",
    "result = prob.solve()\n",
    "print(mu_safe.value, sigma_safe.value)\n",
    "print(mu_task.value, sigma_task.value)\n",
    "print(mu_proj.value, sigma_proj.value)"
   ]
  },
  {
   "cell_type": "code",
   "execution_count": 273,
   "metadata": {},
   "outputs": [
    {
     "name": "stdout",
     "output_type": "stream",
     "text": [
      "True\n",
      "True\n",
      "True\n",
      "True\n",
      "False\n"
     ]
    }
   ],
   "source": [
    "# Failed attempt (is not DCP)\n",
    "\n",
    "alpha = cp.Variable(ACT_DIM, pos=True) # slack variable used to make problem DCP\n",
    "log_mu_difference = cp.Variable(ACT_DIM, pos=True) # slack variable used to make problem DCP\n",
    "\n",
    "objective = cp.Minimize(-2*cp.sum(cp.log(sigma_proj)) +  cp.sum_squares(sigma_proj/sigma_task) + cp.sum_squares((mu_proj - mu_task)/sigma_task))\n",
    "constraints = []\n",
    "constraint_1 = sigma_proj + eta <= sigma_safe\n",
    "constraints.append(constraint_1)\n",
    "# constraint_2 = cp.exp(1/2*cp.square(mu_proj - mu_safe)/(cp.square(sigma_safe) - cp.square(sigma_proj))) <= beta*sigma_proj/sigma_safe\n",
    "# constraint_2 = cp.sum(cp.log(sigma_safe)) - cp.sum(cp.log(sigma_proj)) + (1/2)*cp.sum(cp.square(mu_proj-mu_safe)) <= cp.log(beta)\n",
    "constraint_2 = cp.sum(cp.log(sigma_safe)) - cp.sum(cp.log(sigma_proj)) + (1/2)*cp.sum(alpha) <= cp.log(beta) # need slack variable alpha to handle the summands of the sum term\n",
    "constraints.append(constraint_2)\n",
    "# constraint_3 = 2*cp.log(mu_proj - mu_safe) - cp.log(cp.square(sigma_safe) - cp.square(sigma_proj)) <= cp.log(alpha)\n",
    "constraint_3 = 2*log_mu_difference - cp.log(cp.square(sigma_safe) - cp.square(sigma_proj)) <= cp.log(alpha) # need to add slack variable log_mu_difference to make DCP (convex <= concave)\n",
    "constraints.append(constraint_3)\n",
    "constraint_4 = mu_proj - mu_safe <= cp.exp(log_mu_difference) # not DCP because we need convex <= concave but the RHS is convex (taking logs leads to a similar problem)\n",
    "constraints.append(constraint_4)\n",
    "# constraints = [cp.prod(cp.exp(1/2*cp.square(mu_proj - mu_safe)/(cp.square(sigma_safe) - cp.square(sigma_proj)))) <= beta*cp.prod(sigma_proj/sigma_safe), sigma_proj + eta <= sigma_safe]\n",
    "prob = cp.Problem(objective, constraints)\n",
    "\n",
    "print(objective.is_dcp())\n",
    "print(constraint_1.is_dcp())\n",
    "print(constraint_2.is_dcp())\n",
    "print(constraint_3.is_dcp())\n",
    "print(constraint_4.is_dcp())"
   ]
  }
 ],
 "metadata": {
  "kernelspec": {
   "display_name": "cvxpy_env",
   "language": "python",
   "name": "python3"
  },
  "language_info": {
   "codemirror_mode": {
    "name": "ipython",
    "version": 3
   },
   "file_extension": ".py",
   "mimetype": "text/x-python",
   "name": "python",
   "nbconvert_exporter": "python",
   "pygments_lexer": "ipython3",
   "version": "3.12.4"
  }
 },
 "nbformat": 4,
 "nbformat_minor": 2
}
