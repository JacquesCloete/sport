{
 "cells": [
  {
   "cell_type": "markdown",
   "metadata": {},
   "source": [
    "# Convex Minimization Timing\n",
    "\n",
    "This notbook is used to time how long it takes to run the solver for the optimization problem, using DCP and DPP."
   ]
  },
  {
   "cell_type": "code",
   "execution_count": 10,
   "metadata": {},
   "outputs": [],
   "source": [
    "import numpy as np\n",
    "import cvxpy as cp\n",
    "import time"
   ]
  },
  {
   "cell_type": "code",
   "execution_count": 62,
   "metadata": {},
   "outputs": [],
   "source": [
    "# Setup\n",
    "ACT_DIM = 8 # action space dimensions\n",
    "ETA = 1e-8 # used to enforce strict inequality\n",
    "\n",
    "beta = cp.Parameter() # (> 1) constraint on maximum policy ratio\n",
    "\n",
    "# safe policy (cvxpy parameters)\n",
    "mu_safe = cp.Parameter(ACT_DIM)\n",
    "sigma_safe = cp.Parameter(ACT_DIM, pos=True)\n",
    "\n",
    "# task policy (cvxpy parameters)\n",
    "mu_task = cp.Parameter(ACT_DIM)\n",
    "sigma_task = cp.Parameter(ACT_DIM, pos=True)\n",
    "\n",
    "# projected policy (cvxpy variables)\n",
    "mu_proj = cp.Variable(ACT_DIM)\n",
    "sigma_proj = cp.Variable(ACT_DIM, pos=True)\n",
    "\n",
    "\n",
    "# Additional variables/parameters for DPP\n",
    "# safe policy (cvxpy parameters)\n",
    "sigma_safe_inv = cp.Parameter(ACT_DIM, pos=True) # 1/sigma_safe\n",
    "sigma_sigma_safe = cp.Parameter(ACT_DIM, pos=True) # sigma_safe^2\n",
    "\n",
    "# task policy (cvxpy parameters)\n",
    "sigma_task_inv = cp.Parameter(ACT_DIM, pos=True) # 1/sigma_task\n",
    "mu_sigma_task = cp.Parameter(ACT_DIM) # mu_task/sigma_task\n",
    "mu_sigma_sigma_task = cp.Parameter(ACT_DIM)   # mu_task/(sigma_task)^2\n",
    "\n",
    "# sum term (cvxpy variables)\n",
    "mu_safe_var = cp.Variable(ACT_DIM)   # mu_safe\n",
    "sigma_sigma_safe_var = cp.Variable(ACT_DIM, pos=True)   # sigma_safe^2"
   ]
  },
  {
   "cell_type": "code",
   "execution_count": 63,
   "metadata": {},
   "outputs": [],
   "source": [
    "# Problem definition\n",
    "objective_dcp = cp.Minimize(-2*cp.sum(cp.log(sigma_proj)) +  cp.sum_squares(sigma_proj/sigma_task) + cp.sum_squares((mu_proj - mu_task)/sigma_task))\n",
    "\n",
    "constraints_dcp = []\n",
    "\n",
    "constraint_1_dcp = sigma_proj + ETA <= sigma_safe\n",
    "constraints_dcp.append(constraint_1_dcp)\n",
    "\n",
    "sum_term_dcp = 0    # we define the sum term like this so that we can use quad_over_lin and thus allow the problem to be DCP (standard quotient operator is not DCP)\n",
    "for i in range(0, ACT_DIM):\n",
    "    sum_term_dcp += cp.quad_over_lin(mu_proj[i] - mu_safe[i],cp.square(sigma_safe[i]) - cp.square(sigma_proj[i]))   # note that numerator gets squared (which we want)\n",
    "\n",
    "constraint_2_dcp = cp.sum(cp.log(sigma_safe)) - cp.sum(cp.log(sigma_proj)) + (1/2)*sum_term_dcp <= cp.log(beta)\n",
    "constraints_dcp.append(constraint_2_dcp)\n",
    "\n",
    "prob_dcp = cp.Problem(objective_dcp, constraints_dcp)"
   ]
  },
  {
   "cell_type": "code",
   "execution_count": 64,
   "metadata": {},
   "outputs": [],
   "source": [
    "# Problem re-definition as DPP\n",
    "objective_dpp = cp.Minimize(-2*cp.sum(cp.log(sigma_proj)) +  cp.sum_squares(cp.multiply(sigma_proj,sigma_task_inv)) + cp.sum_squares(cp.multiply(mu_proj,sigma_task_inv)) - 2*cp.sum(cp.multiply(mu_proj, mu_sigma_sigma_task)) + cp.sum_squares(mu_sigma_task))\n",
    "\n",
    "constraints_dpp = []\n",
    "\n",
    "constraint_1_dpp = sigma_proj + ETA <= sigma_safe\n",
    "constraints_dpp.append(constraint_1_dpp)\n",
    "\n",
    "sum_term_dpp = 0    # we define the sum term like this so that we can use quad_over_lin and thus allow the problem to be DCP (standard quotient operator is not DCP)\n",
    "for i in range(0, ACT_DIM):\n",
    "    sum_term_dpp += cp.quad_over_lin(mu_proj[i] - mu_safe_var[i],sigma_sigma_safe_var[i] - cp.square(sigma_proj[i]))   # note that numerator gets squared (which we want)\n",
    "\n",
    "constraint_2_dpp = -cp.sum(cp.log(sigma_safe_inv)) - cp.sum(cp.log(sigma_proj)) + (1/2)*sum_term_dpp <= cp.log(beta)\n",
    "constraints_dpp.append(constraint_2_dpp)\n",
    "\n",
    "constraint_3_dpp = mu_safe_var == mu_safe\n",
    "constraints_dpp.append(constraint_3_dpp)\n",
    "\n",
    "constraint_4_dpp = sigma_sigma_safe_var == sigma_sigma_safe\n",
    "constraints_dpp.append(constraint_4_dpp)\n",
    "\n",
    "prob_dpp = cp.Problem(objective_dpp, constraints_dpp)"
   ]
  },
  {
   "cell_type": "code",
   "execution_count": 67,
   "metadata": {},
   "outputs": [],
   "source": [
    "# Generate examples\n",
    "beta.value = 1.1 # (> 1) constraint on maximum policy ratio\n",
    "\n",
    "STRAY_FACTOR = 0.05 # factor on how far the task policy strays from the safe policy\n",
    "\n",
    "N = 1000 # no. examples\n",
    "\n",
    "mu_safe_list = []\n",
    "sigma_safe_list = []\n",
    "\n",
    "mu_task_list = []\n",
    "sigma_task_list = []\n",
    "\n",
    "sigma_safe_inv_list = []\n",
    "sigma_sigma_safe_list = []\n",
    "\n",
    "sigma_task_inv_list = []\n",
    "mu_sigma_task_list = []\n",
    "mu_sigma_sigma_task_list = []\n",
    "\n",
    "for i in range(0,N):\n",
    "    # safe policy\n",
    "    mu_safe_list.append(np.random.randn(ACT_DIM))\n",
    "    sigma_safe_list.append(np.random.exponential(size=ACT_DIM)) # > 0\n",
    "\n",
    "    # task policy\n",
    "    mu_task_list.append(mu_safe_list[i] + STRAY_FACTOR*np.random.randn(ACT_DIM)) # put task policy mean somewhere fairly close to safe policy mean\n",
    "    sigma_task_list.append(sigma_safe_list[i] - np.minimum(STRAY_FACTOR*sigma_safe_list[i]*np.random.exponential(size=ACT_DIM),sigma_safe_list[i]-ETA))  # put task policy stdev somewhere fairly close to but less than safe policy stdev (and > 0)\n",
    "\n",
    "    # Set additional DPP parameters for examples\n",
    "\n",
    "    sigma_safe_inv_list.append(1/sigma_safe_list[i]) # 1/sigma_safe\n",
    "    sigma_sigma_safe_list.append(np.square(sigma_safe_list[i])) # sigma_safe^2\n",
    "\n",
    "    # task policy (cvxpy parameters)\n",
    "    sigma_task_inv_list.append(1/sigma_task_list[i]) # 1/sigma_task\n",
    "    mu_sigma_task_list.append(mu_task_list[i]/sigma_task_list[i]) # mu_task/sigma_task\n",
    "    mu_sigma_sigma_task_list.append(mu_task_list[i]/np.square(sigma_task_list[i]))   # mu_task/(sigma_task)^2"
   ]
  },
  {
   "cell_type": "code",
   "execution_count": 69,
   "metadata": {},
   "outputs": [
    {
     "name": "stdout",
     "output_type": "stream",
     "text": [
      "0.02992156004905701\n"
     ]
    }
   ],
   "source": [
    "# Time DCP\n",
    "\n",
    "t0_dcp = time.time()\n",
    "for i in range(0,N):\n",
    "    mu_safe.value = mu_safe_list[i]\n",
    "    sigma_safe.value = sigma_safe_list[i]\n",
    "\n",
    "    mu_task.value = mu_task_list[i]\n",
    "    sigma_task.value = sigma_task_list[i]\n",
    "\n",
    "    sigma_safe_inv.value = sigma_safe_inv_list[i]\n",
    "    sigma_sigma_safe.value = sigma_sigma_safe_list[i]\n",
    "\n",
    "    sigma_task_inv.value = sigma_task_inv_list[i]\n",
    "    mu_sigma_task.value = mu_sigma_task_list[i]\n",
    "    mu_sigma_sigma_task.value = mu_sigma_sigma_task_list[i]\n",
    "\n",
    "    # warm start as safe policy\n",
    "    # bad idea since sigma_proj = sigma_safe messes things up\n",
    "    # mu_proj.value = mu_safe_list[i]\n",
    "    # sigma_proj.value = sigma_safe_list[i]\n",
    "    # mu_safe_var.value = mu_safe_list[i]\n",
    "    # sigma_sigma_safe_var.value = np.square(sigma_safe_list[i])\n",
    "\n",
    "    result = prob_dcp.solve()\n",
    "    # result = prob_dcp.solve(warm_start=True)\n",
    "t1_dcp = time.time()\n",
    "\n",
    "time_avg_dcp = (t1_dcp - t0_dcp)/N\n",
    "print((time_avg_dcp))"
   ]
  },
  {
   "cell_type": "code",
   "execution_count": 68,
   "metadata": {},
   "outputs": [
    {
     "name": "stdout",
     "output_type": "stream",
     "text": [
      "0.0028677945137023926\n"
     ]
    }
   ],
   "source": [
    "# Time DPP\n",
    "\n",
    "t0_dpp = time.time()\n",
    "for i in range(0,N):\n",
    "    mu_safe.value = mu_safe_list[i]\n",
    "    sigma_safe.value = sigma_safe_list[i]\n",
    "\n",
    "    mu_task.value = mu_task_list[i]\n",
    "    sigma_task.value = sigma_task_list[i]\n",
    "\n",
    "    sigma_safe_inv.value = sigma_safe_inv_list[i]\n",
    "    sigma_sigma_safe.value = sigma_sigma_safe_list[i]\n",
    "\n",
    "    sigma_task_inv.value = sigma_task_inv_list[i]\n",
    "    mu_sigma_task.value = mu_sigma_task_list[i]\n",
    "    mu_sigma_sigma_task.value = mu_sigma_sigma_task_list[i]\n",
    "\n",
    "    # warm start as safe policy\n",
    "    # bad idea since sigma_proj = sigma_safe messes things up\n",
    "    # mu_proj.value = mu_safe_list[i]\n",
    "    # sigma_proj.value = sigma_safe_list[i]\n",
    "    # mu_safe_var.value = mu_safe_list[i]\n",
    "    # sigma_sigma_safe_var.value = np.square(sigma_safe_list[i])\n",
    "\n",
    "    result = prob_dpp.solve()\n",
    "    # result = prob_dpp.solve(warm_start=True)\n",
    "t1_dpp = time.time()\n",
    "\n",
    "time_avg_dpp = (t1_dpp - t0_dpp)/N\n",
    "print((time_avg_dpp))"
   ]
  }
 ],
 "metadata": {
  "kernelspec": {
   "display_name": "cvxpy_env",
   "language": "python",
   "name": "python3"
  },
  "language_info": {
   "codemirror_mode": {
    "name": "ipython",
    "version": 3
   },
   "file_extension": ".py",
   "mimetype": "text/x-python",
   "name": "python",
   "nbconvert_exporter": "python",
   "pygments_lexer": "ipython3",
   "version": "3.12.4"
  }
 },
 "nbformat": 4,
 "nbformat_minor": 2
}
