{
 "cells": [
  {
   "cell_type": "markdown",
   "metadata": {},
   "source": [
    "# Testing splitting and recombining parallel actions"
   ]
  },
  {
   "cell_type": "code",
   "execution_count": 24,
   "metadata": {},
   "outputs": [],
   "source": [
    "import numpy as np\n",
    "import torch\n",
    "import torch.nn as nn  # noqa: F401\n",
    "import safety_gymnasium\n",
    "from rl_vcf.rl.utils import make_env_safety, get_actor_structure\n",
    "from rl_vcf.rl.algos.ppo.core import MLPActorCritic, LOG_STD_MIN, LOG_STD_MAX"
   ]
  },
  {
   "cell_type": "code",
   "execution_count": 42,
   "metadata": {},
   "outputs": [],
   "source": [
    "num_envs = 1\n",
    "\n",
    "seed = 0\n",
    "device = \"cuda\"\n",
    "envs = safety_gymnasium.vector.SafetySyncVectorEnv(\n",
    "    [\n",
    "        make_env_safety(\n",
    "            \"SafetyPointReachAvoidReset0-v0\",\n",
    "            i,\n",
    "            seed + i,\n",
    "            False,\n",
    "            5,\n",
    "            False,\n",
    "        )\n",
    "        for i in range(num_envs)\n",
    "    ]\n",
    ")"
   ]
  },
  {
   "cell_type": "code",
   "execution_count": 43,
   "metadata": {},
   "outputs": [],
   "source": [
    "# Load state dict\n",
    "loaded_state_dict = torch.load(\n",
    "    \"rl-policy-episode-200.pt\", weights_only=True, map_location=device\n",
    ")\n",
    "\n",
    "# Construct agent from state dict\n",
    "loaded_hidden_sizes, loaded_activation = get_actor_structure(\n",
    "    loaded_state_dict, envs.single_observation_space, envs.single_action_space\n",
    ")\n",
    "\n",
    "agent = MLPActorCritic(\n",
    "    envs.single_observation_space,\n",
    "    envs.single_action_space,\n",
    "    loaded_hidden_sizes,\n",
    "    eval(\"nn.\" + loaded_activation + \"()\"),\n",
    "    state_dependent_std=True,\n",
    ")\n",
    "agent.pi.load_state_dict(loaded_state_dict, strict=True)\n",
    "agent.to(device)\n",
    "\n",
    "# Prevent storing gradients\n",
    "for p in agent.parameters():\n",
    "    p.requires_grad = False"
   ]
  },
  {
   "cell_type": "code",
   "execution_count": 44,
   "metadata": {},
   "outputs": [],
   "source": [
    "obs, info = envs.reset(seed=[seed + i for i in range(num_envs)])\n",
    "with torch.no_grad():\n",
    "    for _ in range(3):\n",
    "        act = agent.act(torch.Tensor(obs).to(device))\n",
    "        next_obs, rew, cost, term, trunc, info = envs.step(act.detach().cpu().numpy())\n",
    "        done = np.logical_or(term, trunc)\n",
    "        obs = next_obs"
   ]
  },
  {
   "cell_type": "code",
   "execution_count": 45,
   "metadata": {},
   "outputs": [
    {
     "name": "stdout",
     "output_type": "stream",
     "text": [
      "tensor([[ 1.6778, -2.6323]], device='cuda:0')\n",
      "torch.Size([1, 2])\n",
      "tensor([[0.4244, 0.5352]], device='cuda:0')\n",
      "torch.Size([1, 2])\n"
     ]
    }
   ],
   "source": [
    "mu = agent.pi.mu_layer(agent.pi.net(torch.Tensor(obs).to(device)))\n",
    "print(mu)\n",
    "print(mu.shape)\n",
    "log_std = agent.pi.log_std_layer(agent.pi.net(torch.Tensor(obs).to(device)))\n",
    "log_std = torch.tanh(log_std)\n",
    "log_std = LOG_STD_MIN + 0.5 * (LOG_STD_MAX - LOG_STD_MIN) * (log_std + 1)\n",
    "std = torch.exp(log_std)\n",
    "print(std)\n",
    "print(std.shape)"
   ]
  },
  {
   "cell_type": "code",
   "execution_count": 50,
   "metadata": {},
   "outputs": [
    {
     "name": "stdout",
     "output_type": "stream",
     "text": [
      "[[ 1.677826  -2.6323307]]\n",
      "(1, 2)\n",
      "[[0.42438477 0.5351586 ]]\n",
      "(1, 2)\n"
     ]
    }
   ],
   "source": [
    "np_mu = mu.detach().cpu().numpy()\n",
    "print(np_mu)\n",
    "print(np_mu.shape)\n",
    "np_std = std.detach().cpu().numpy()\n",
    "print(np_std)\n",
    "print(np_std.shape)"
   ]
  },
  {
   "cell_type": "code",
   "execution_count": 51,
   "metadata": {},
   "outputs": [
    {
     "name": "stdout",
     "output_type": "stream",
     "text": [
      "[[0. 0.]]\n",
      "[[0. 0.]]\n"
     ]
    }
   ],
   "source": [
    "np_mu_proj = np.zeros_like(np_mu)\n",
    "print(np_mu_proj)\n",
    "np_std_proj = np.zeros_like(np_std)\n",
    "print(np_std_proj)"
   ]
  },
  {
   "cell_type": "code",
   "execution_count": 52,
   "metadata": {},
   "outputs": [],
   "source": [
    "for i in range(mu.shape[0]):\n",
    "    np_mu_proj[i], np_std_proj[i] = (np_mu[i] + 1, np_std[i] + 2)"
   ]
  },
  {
   "cell_type": "code",
   "execution_count": 53,
   "metadata": {},
   "outputs": [
    {
     "name": "stdout",
     "output_type": "stream",
     "text": [
      "[[ 2.677826  -1.6323307]]\n",
      "[[2.4243848 2.5351586]]\n"
     ]
    }
   ],
   "source": [
    "print(np_mu_proj)\n",
    "print(np_std_proj)"
   ]
  },
  {
   "cell_type": "code",
   "execution_count": 54,
   "metadata": {},
   "outputs": [
    {
     "name": "stdout",
     "output_type": "stream",
     "text": [
      "tensor([[ 2.6778, -1.6323]], device='cuda:0')\n",
      "tensor([[2.4244, 2.5352]], device='cuda:0')\n"
     ]
    }
   ],
   "source": [
    "mu_proj = torch.Tensor(np_mu_proj).to(mu.device)\n",
    "print(mu_proj)\n",
    "std_proj = torch.Tensor(np_std_proj).to(std.device)\n",
    "print(std_proj)"
   ]
  },
  {
   "cell_type": "code",
   "execution_count": 58,
   "metadata": {},
   "outputs": [
    {
     "name": "stdout",
     "output_type": "stream",
     "text": [
      "2\n"
     ]
    }
   ],
   "source": [
    "print(np.size(mu.shape))"
   ]
  },
  {
   "cell_type": "code",
   "execution_count": 62,
   "metadata": {},
   "outputs": [],
   "source": [
    "single_env = safety_gymnasium.make(\"SafetyPointReachAvoidReset0-v0\")\n",
    "obs, info = single_env.reset()"
   ]
  },
  {
   "cell_type": "code",
   "execution_count": 63,
   "metadata": {},
   "outputs": [
    {
     "name": "stdout",
     "output_type": "stream",
     "text": [
      "[ 0.          0.          9.81        0.          0.          0.\n",
      "  0.          0.          0.         -0.32924723  0.37629279  0.\n",
      "  0.          0.          0.          0.          0.          0.\n",
      "  0.15012717  0.72919177  0.5790646   0.          0.          0.\n",
      "  0.          0.          0.          0.        ]\n"
     ]
    }
   ],
   "source": [
    "print(obs)"
   ]
  },
  {
   "cell_type": "code",
   "execution_count": 64,
   "metadata": {},
   "outputs": [
    {
     "name": "stdout",
     "output_type": "stream",
     "text": [
      "tensor([-2.4906,  0.1933], device='cuda:0')\n",
      "torch.Size([2])\n",
      "tensor([0.5551, 0.5626], device='cuda:0')\n",
      "torch.Size([2])\n"
     ]
    }
   ],
   "source": [
    "mu = agent.pi.mu_layer(agent.pi.net(torch.Tensor(obs).to(device)))\n",
    "print(mu)\n",
    "print(mu.shape)\n",
    "log_std = agent.pi.log_std_layer(agent.pi.net(torch.Tensor(obs).to(device)))\n",
    "log_std = torch.tanh(log_std)\n",
    "log_std = LOG_STD_MIN + 0.5 * (LOG_STD_MAX - LOG_STD_MIN) * (log_std + 1)\n",
    "std = torch.exp(log_std)\n",
    "print(std)\n",
    "print(std.shape)"
   ]
  },
  {
   "cell_type": "code",
   "execution_count": 65,
   "metadata": {},
   "outputs": [
    {
     "name": "stdout",
     "output_type": "stream",
     "text": [
      "1\n"
     ]
    }
   ],
   "source": [
    "print(np.size(mu.shape))"
   ]
  }
 ],
 "metadata": {
  "kernelspec": {
   "display_name": "rl_vcf",
   "language": "python",
   "name": "python3"
  },
  "language_info": {
   "codemirror_mode": {
    "name": "ipython",
    "version": 3
   },
   "file_extension": ".py",
   "mimetype": "text/x-python",
   "name": "python",
   "nbconvert_exporter": "python",
   "pygments_lexer": "ipython3",
   "version": "3.10.15"
  }
 },
 "nbformat": 4,
 "nbformat_minor": 2
}
