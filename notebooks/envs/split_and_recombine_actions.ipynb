{
 "cells": [
  {
   "cell_type": "markdown",
   "metadata": {},
   "source": [
    "# Testing splitting and recombining parallel actions"
   ]
  },
  {
   "cell_type": "code",
   "execution_count": 2,
   "metadata": {},
   "outputs": [],
   "source": [
    "import numpy as np\n",
    "import torch\n",
    "import torch.nn as nn  # noqa: F401\n",
    "import safety_gymnasium\n",
    "from rl_vcf.rl.utils import make_env_safety, get_actor_structure\n",
    "from rl_vcf.rl.algos.ppo.core import MLPActorCritic, LOG_STD_MIN, LOG_STD_MAX\n",
    "from rl_vcf.rl.algos.projected_ppo.core import max_log_diag_gaussian_ratio"
   ]
  },
  {
   "cell_type": "code",
   "execution_count": 3,
   "metadata": {},
   "outputs": [],
   "source": [
    "num_envs = 3\n",
    "\n",
    "seed = 0\n",
    "device = \"cuda\"\n",
    "envs = safety_gymnasium.vector.SafetySyncVectorEnv(\n",
    "    [\n",
    "        make_env_safety(\n",
    "            \"SafetyPointReachAvoidReset0-v0\",\n",
    "            i,\n",
    "            seed + i,\n",
    "            False,\n",
    "            5,\n",
    "            False,\n",
    "        )\n",
    "        for i in range(num_envs)\n",
    "    ]\n",
    ")"
   ]
  },
  {
   "cell_type": "code",
   "execution_count": 4,
   "metadata": {},
   "outputs": [],
   "source": [
    "# Load state dict\n",
    "loaded_state_dict = torch.load(\n",
    "    \"rl-policy-episode-200.pt\", weights_only=True, map_location=device\n",
    ")\n",
    "\n",
    "# Construct agent from state dict\n",
    "loaded_hidden_sizes, loaded_activation = get_actor_structure(\n",
    "    loaded_state_dict, envs.single_observation_space, envs.single_action_space\n",
    ")\n",
    "\n",
    "agent = MLPActorCritic(\n",
    "    envs.single_observation_space,\n",
    "    envs.single_action_space,\n",
    "    loaded_hidden_sizes,\n",
    "    eval(\"nn.\" + loaded_activation + \"()\"),\n",
    "    state_dependent_std=True,\n",
    ")\n",
    "agent.pi.load_state_dict(loaded_state_dict, strict=True)\n",
    "agent.to(device)\n",
    "\n",
    "# Prevent storing gradients\n",
    "for p in agent.parameters():\n",
    "    p.requires_grad = False"
   ]
  },
  {
   "cell_type": "code",
   "execution_count": 5,
   "metadata": {},
   "outputs": [],
   "source": [
    "obs, info = envs.reset(seed=[seed + i for i in range(num_envs)])\n",
    "with torch.no_grad():\n",
    "    for _ in range(3):\n",
    "        act = agent.act(torch.Tensor(obs).to(device))\n",
    "        next_obs, rew, cost, term, trunc, info = envs.step(act.detach().cpu().numpy())\n",
    "        done = np.logical_or(term, trunc)\n",
    "        obs = next_obs"
   ]
  },
  {
   "cell_type": "code",
   "execution_count": 6,
   "metadata": {},
   "outputs": [
    {
     "name": "stdout",
     "output_type": "stream",
     "text": [
      "tensor([[ 1.6778, -2.6323],\n",
      "        [-1.9176,  0.4878],\n",
      "        [ 1.4327,  0.3088]], device='cuda:0')\n",
      "torch.Size([3, 2])\n",
      "tensor([[0.4244, 0.5352],\n",
      "        [0.4533, 0.6938],\n",
      "        [0.3115, 0.4269]], device='cuda:0')\n",
      "torch.Size([3, 2])\n"
     ]
    }
   ],
   "source": [
    "mu_base = agent.pi.mu_layer(agent.pi.net(torch.Tensor(obs).to(device)))\n",
    "print(mu_base)\n",
    "print(mu_base.shape)\n",
    "log_std_base = agent.pi.log_std_layer(agent.pi.net(torch.Tensor(obs).to(device)))\n",
    "log_std_base = torch.tanh(log_std_base)\n",
    "log_std_base = LOG_STD_MIN + 0.5 * (LOG_STD_MAX - LOG_STD_MIN) * (log_std_base + 1)\n",
    "std_base = torch.exp(log_std_base)\n",
    "print(std_base)\n",
    "print(std_base.shape)"
   ]
  },
  {
   "cell_type": "code",
   "execution_count": 7,
   "metadata": {},
   "outputs": [
    {
     "name": "stdout",
     "output_type": "stream",
     "text": [
      "[[ 1.6778263  -2.632331  ]\n",
      " [-1.9176089   0.4877513 ]\n",
      " [ 1.4326621   0.30880895]]\n",
      "(3, 2)\n",
      "[[0.42438495 0.5351586 ]\n",
      " [0.45326692 0.69380563]\n",
      " [0.31146035 0.4269302 ]]\n",
      "(3, 2)\n"
     ]
    }
   ],
   "source": [
    "np_mu_base = mu_base.detach().cpu().numpy()\n",
    "print(np_mu_base)\n",
    "print(np_mu_base.shape)\n",
    "np_std_base = std_base.detach().cpu().numpy()\n",
    "print(np_std_base)\n",
    "print(np_std_base.shape)"
   ]
  },
  {
   "cell_type": "code",
   "execution_count": 8,
   "metadata": {},
   "outputs": [
    {
     "name": "stdout",
     "output_type": "stream",
     "text": [
      "[[0. 0.]\n",
      " [0. 0.]\n",
      " [0. 0.]]\n",
      "[[0. 0.]\n",
      " [0. 0.]\n",
      " [0. 0.]]\n",
      "[[0. 0.]\n",
      " [0. 0.]\n",
      " [0. 0.]]\n",
      "[[0. 0.]\n",
      " [0. 0.]\n",
      " [0. 0.]]\n"
     ]
    }
   ],
   "source": [
    "np_mu_task = np.zeros_like(np_mu_base)\n",
    "print(np_mu_task)\n",
    "np_std_task = np.zeros_like(np_std_base)\n",
    "print(np_std_task)\n",
    "np_mu_proj = np.zeros_like(np_mu_base)\n",
    "print(np_mu_proj)\n",
    "np_std_proj = np.zeros_like(np_std_base)\n",
    "print(np_std_proj)"
   ]
  },
  {
   "cell_type": "code",
   "execution_count": 9,
   "metadata": {},
   "outputs": [],
   "source": [
    "for i in range(mu_base.shape[0]):\n",
    "    np_mu_task[i], np_std_task[i] = (\n",
    "        np_mu_base[i] + 0.5 * np.random.randn(),\n",
    "        np_std_base[i] - 0.1 * (np.minimum(np_std_base[i], np.random.rayleigh(1))),\n",
    "    )\n",
    "    np_mu_proj[i], np_std_proj[i] = (\n",
    "        np_mu_base[i] + 0.1 * np.random.randn(),\n",
    "        np_std_base[i] - 0.02 * (np.minimum(np_std_base[i], np.random.rayleigh(1))),\n",
    "    )"
   ]
  },
  {
   "cell_type": "code",
   "execution_count": 10,
   "metadata": {},
   "outputs": [
    {
     "name": "stdout",
     "output_type": "stream",
     "text": [
      "[[ 1.3605912  -2.9495661 ]\n",
      " [-3.026999   -0.62163895]\n",
      " [ 1.4280748   0.3042217 ]]\n",
      "[[0.38194644 0.48164272]\n",
      " [0.40794024 0.62442505]\n",
      " [0.28031433 0.38423717]]\n",
      "[[ 1.7366393  -2.5735178 ]\n",
      " [-1.9233865   0.4819737 ]\n",
      " [ 1.3474997   0.22364661]]\n",
      "[[0.41589725 0.5244554 ]\n",
      " [0.4442016  0.6799295 ]\n",
      " [0.30523115 0.4183916 ]]\n"
     ]
    }
   ],
   "source": [
    "print(np_mu_task)\n",
    "print(np_std_task)\n",
    "print(np_mu_proj)\n",
    "print(np_std_proj)"
   ]
  },
  {
   "cell_type": "code",
   "execution_count": 11,
   "metadata": {},
   "outputs": [
    {
     "name": "stdout",
     "output_type": "stream",
     "text": [
      "tensor([[ 1.7366, -2.5735],\n",
      "        [-1.9234,  0.4820],\n",
      "        [ 1.3475,  0.2236]], device='cuda:0')\n",
      "tensor([[0.4159, 0.5245],\n",
      "        [0.4442, 0.6799],\n",
      "        [0.3052, 0.4184]], device='cuda:0')\n"
     ]
    }
   ],
   "source": [
    "mu_proj = torch.Tensor(np_mu_proj).to(mu_base.device)\n",
    "print(mu_proj)\n",
    "std_proj = torch.Tensor(np_std_proj).to(std_base.device)\n",
    "print(std_proj)"
   ]
  },
  {
   "cell_type": "code",
   "execution_count": 12,
   "metadata": {},
   "outputs": [
    {
     "name": "stdout",
     "output_type": "stream",
     "text": [
      "[ 2.60592866 22.70347488  0.21159545]\n",
      "<class 'numpy.ndarray'>\n",
      "[0.43539584 0.04333242 1.48680115]\n",
      "<class 'numpy.ndarray'>\n"
     ]
    }
   ],
   "source": [
    "log_task_base = np.zeros(mu_base.shape[0])\n",
    "log_proj_base = np.zeros(mu_base.shape[0])\n",
    "for i in range(mu_base.shape[0]):\n",
    "    log_task_base[i] = max_log_diag_gaussian_ratio(\n",
    "        np_mu_base[i], np_std_base[i], np_mu_task[i], np_std_task[i]\n",
    "    )\n",
    "    log_proj_base[i] = max_log_diag_gaussian_ratio(\n",
    "        np_mu_base[i], np_std_base[i], np_mu_proj[i], np_std_proj[i]\n",
    "    )\n",
    "print(log_task_base)\n",
    "print(type(log_task_base))\n",
    "print(log_proj_base)\n",
    "print(type(log_proj_base))"
   ]
  },
  {
   "cell_type": "code",
   "execution_count": 24,
   "metadata": {},
   "outputs": [
    {
     "name": "stdout",
     "output_type": "stream",
     "text": [
      "2\n"
     ]
    }
   ],
   "source": [
    "print(np.size(mu_base.shape))"
   ]
  },
  {
   "cell_type": "code",
   "execution_count": 62,
   "metadata": {},
   "outputs": [],
   "source": [
    "single_env = safety_gymnasium.make(\"SafetyPointReachAvoidReset0-v0\")\n",
    "obs, info = single_env.reset()"
   ]
  },
  {
   "cell_type": "code",
   "execution_count": 63,
   "metadata": {},
   "outputs": [
    {
     "name": "stdout",
     "output_type": "stream",
     "text": [
      "[ 0.          0.          9.81        0.          0.          0.\n",
      "  0.          0.          0.         -0.32924723  0.37629279  0.\n",
      "  0.          0.          0.          0.          0.          0.\n",
      "  0.15012717  0.72919177  0.5790646   0.          0.          0.\n",
      "  0.          0.          0.          0.        ]\n"
     ]
    }
   ],
   "source": [
    "print(obs)"
   ]
  },
  {
   "cell_type": "code",
   "execution_count": 64,
   "metadata": {},
   "outputs": [
    {
     "name": "stdout",
     "output_type": "stream",
     "text": [
      "tensor([-2.4906,  0.1933], device='cuda:0')\n",
      "torch.Size([2])\n",
      "tensor([0.5551, 0.5626], device='cuda:0')\n",
      "torch.Size([2])\n"
     ]
    }
   ],
   "source": [
    "mu = agent.pi.mu_layer(agent.pi.net(torch.Tensor(obs).to(device)))\n",
    "print(mu)\n",
    "print(mu.shape)\n",
    "log_std = agent.pi.log_std_layer(agent.pi.net(torch.Tensor(obs).to(device)))\n",
    "log_std = torch.tanh(log_std)\n",
    "log_std = LOG_STD_MIN + 0.5 * (LOG_STD_MAX - LOG_STD_MIN) * (log_std + 1)\n",
    "std = torch.exp(log_std)\n",
    "print(std)\n",
    "print(std.shape)"
   ]
  },
  {
   "cell_type": "code",
   "execution_count": 65,
   "metadata": {},
   "outputs": [
    {
     "name": "stdout",
     "output_type": "stream",
     "text": [
      "1\n"
     ]
    }
   ],
   "source": [
    "print(np.size(mu.shape))"
   ]
  }
 ],
 "metadata": {
  "kernelspec": {
   "display_name": "rl_vcf",
   "language": "python",
   "name": "python3"
  },
  "language_info": {
   "codemirror_mode": {
    "name": "ipython",
    "version": 3
   },
   "file_extension": ".py",
   "mimetype": "text/x-python",
   "name": "python",
   "nbconvert_exporter": "python",
   "pygments_lexer": "ipython3",
   "version": "3.10.15"
  }
 },
 "nbformat": 4,
 "nbformat_minor": 2
}
