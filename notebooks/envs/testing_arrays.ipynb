{
 "cells": [
  {
   "cell_type": "markdown",
   "metadata": {},
   "source": [
    "# Testing arrays"
   ]
  },
  {
   "cell_type": "code",
   "execution_count": 1,
   "metadata": {},
   "outputs": [],
   "source": [
    "import numpy as np"
   ]
  },
  {
   "cell_type": "code",
   "execution_count": 2,
   "metadata": {},
   "outputs": [
    {
     "name": "stdout",
     "output_type": "stream",
     "text": [
      "[[1 2]]\n",
      "[[3 4]]\n",
      "[[1 2]\n",
      " [3 4]]\n"
     ]
    }
   ],
   "source": [
    "x_list = []\n",
    "x1 = np.array([[1, 2]])\n",
    "print(x1)\n",
    "x_list.append(x1)\n",
    "x2 = np.array([[3, 4]])\n",
    "print(x2)\n",
    "x_list.append(x2)\n",
    "x_comb = np.concatenate(x_list, axis=0)\n",
    "print(x_comb)"
   ]
  },
  {
   "cell_type": "code",
   "execution_count": 3,
   "metadata": {},
   "outputs": [
    {
     "name": "stdout",
     "output_type": "stream",
     "text": [
      "[[1 2]\n",
      " [3 4]]\n",
      "[[5 6]\n",
      " [7 8]]\n",
      "[[1 2]\n",
      " [3 4]\n",
      " [5 6]\n",
      " [7 8]]\n",
      "[1 2]\n",
      "2\n"
     ]
    }
   ],
   "source": [
    "x_list = []\n",
    "x1 = np.array([[1, 2], [3, 4]])\n",
    "print(x1)\n",
    "x_list.append(x1)\n",
    "x2 = np.array([[5, 6], [7, 8]])\n",
    "print(x2)\n",
    "x_list.append(x2)\n",
    "x_comb = np.concatenate(x_list, axis=0)\n",
    "print(x_comb)\n",
    "print(x_comb[0])\n",
    "print(x_comb[0][1])"
   ]
  },
  {
   "cell_type": "code",
   "execution_count": 4,
   "metadata": {},
   "outputs": [
    {
     "name": "stdout",
     "output_type": "stream",
     "text": [
      "[[ 9 10]\n",
      " [11 12]]\n",
      "[[ 1  2]\n",
      " [ 3  4]\n",
      " [ 5  6]\n",
      " [ 7  8]\n",
      " [ 9 10]\n",
      " [11 12]]\n"
     ]
    }
   ],
   "source": [
    "x3 = np.array([[9, 10], [11, 12]])\n",
    "print(x3)\n",
    "x_comb = np.concatenate([x_comb, x3], axis=0)\n",
    "print(x_comb)"
   ]
  },
  {
   "cell_type": "code",
   "execution_count": 5,
   "metadata": {},
   "outputs": [],
   "source": [
    "from rl_vcf.rl.utils import kl_divergence_diag_gaussians"
   ]
  },
  {
   "cell_type": "code",
   "execution_count": 10,
   "metadata": {},
   "outputs": [
    {
     "name": "stdout",
     "output_type": "stream",
     "text": [
      "[0.69981911 0.88629436]\n"
     ]
    }
   ],
   "source": [
    "mu1 = np.array([[0, 0], [1, 1]])\n",
    "std1 = np.array([[1, 1], [1, 1]])\n",
    "mu2 = np.array([[1, 1], [2, 2]])\n",
    "std2 = np.array([[1.5, 1.5], [2, 2]])\n",
    "kl = kl_divergence_diag_gaussians(mu1, std1, mu2, std2)\n",
    "print(kl)"
   ]
  }
 ],
 "metadata": {
  "kernelspec": {
   "display_name": "rl_vcf",
   "language": "python",
   "name": "python3"
  },
  "language_info": {
   "codemirror_mode": {
    "name": "ipython",
    "version": 3
   },
   "file_extension": ".py",
   "mimetype": "text/x-python",
   "name": "python",
   "nbconvert_exporter": "python",
   "pygments_lexer": "ipython3",
   "version": "3.10.15"
  }
 },
 "nbformat": 4,
 "nbformat_minor": 2
}
