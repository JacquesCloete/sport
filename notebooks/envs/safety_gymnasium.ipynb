{
 "cells": [
  {
   "cell_type": "markdown",
   "metadata": {},
   "source": [
    "# Testing Safety Gymnasium Functionality"
   ]
  },
  {
   "cell_type": "code",
   "execution_count": 23,
   "metadata": {},
   "outputs": [],
   "source": [
    "import gymnasium as gym\n",
    "import safety_gymnasium  # noqa: F401\n",
    "from tqdm import tqdm\n",
    "import numpy as np\n",
    "import torch\n",
    "\n",
    "from rl_vcf.rl.utils.make_env import make_env_safety\n",
    "from rl_vcf.rl.algos.sac.core import ReplayBuffer"
   ]
  },
  {
   "cell_type": "code",
   "execution_count": 7,
   "metadata": {},
   "outputs": [],
   "source": [
    "env = safety_gymnasium.make(\"SafetyPointGoal1-v0\", render_mode=\"rgb_array\")\n",
    "obs, info = env.reset(seed=0)"
   ]
  },
  {
   "cell_type": "code",
   "execution_count": 8,
   "metadata": {},
   "outputs": [
    {
     "name": "stdout",
     "output_type": "stream",
     "text": [
      "Box([-inf -inf -inf -inf -inf -inf -inf -inf -inf -inf -inf -inf   0.   0.\n",
      "   0.   0.   0.   0.   0.   0.   0.   0.   0.   0.   0.   0.   0.   0.\n",
      "   0.   0.   0.   0.   0.   0.   0.   0.   0.   0.   0.   0.   0.   0.\n",
      "   0.   0.   0.   0.   0.   0.   0.   0.   0.   0.   0.   0.   0.   0.\n",
      "   0.   0.   0.   0.], [inf inf inf inf inf inf inf inf inf inf inf inf  1.  1.  1.  1.  1.  1.\n",
      "  1.  1.  1.  1.  1.  1.  1.  1.  1.  1.  1.  1.  1.  1.  1.  1.  1.  1.\n",
      "  1.  1.  1.  1.  1.  1.  1.  1.  1.  1.  1.  1.  1.  1.  1.  1.  1.  1.\n",
      "  1.  1.  1.  1.  1.  1.], (60,), float64)\n"
     ]
    }
   ],
   "source": [
    "print(env.observation_space)"
   ]
  },
  {
   "cell_type": "code",
   "execution_count": 9,
   "metadata": {},
   "outputs": [
    {
     "name": "stdout",
     "output_type": "stream",
     "text": [
      "Dict('accelerometer': Box(-inf, inf, (3,), float64), 'velocimeter': Box(-inf, inf, (3,), float64), 'gyro': Box(-inf, inf, (3,), float64), 'magnetometer': Box(-inf, inf, (3,), float64), 'goal_lidar': Box(0.0, 1.0, (16,), float64), 'hazards_lidar': Box(0.0, 1.0, (16,), float64), 'vases_lidar': Box(0.0, 1.0, (16,), float64))\n"
     ]
    }
   ],
   "source": [
    "print(env.obs_space_dict)"
   ]
  },
  {
   "cell_type": "code",
   "execution_count": 11,
   "metadata": {},
   "outputs": [
    {
     "name": "stdout",
     "output_type": "stream",
     "text": [
      "Box([-inf -inf -inf -inf -inf -inf -inf -inf -inf -inf -inf -inf   0.   0.\n",
      "   0.   0.   0.   0.   0.   0.   0.   0.   0.   0.   0.   0.   0.   0.\n",
      "   0.   0.   0.   0.   0.   0.   0.   0.   0.   0.   0.   0.   0.   0.\n",
      "   0.   0.   0.   0.   0.   0.   0.   0.   0.   0.   0.   0.   0.   0.\n",
      "   0.   0.   0.   0.], [inf inf inf inf inf inf inf inf inf inf inf inf  1.  1.  1.  1.  1.  1.\n",
      "  1.  1.  1.  1.  1.  1.  1.  1.  1.  1.  1.  1.  1.  1.  1.  1.  1.  1.\n",
      "  1.  1.  1.  1.  1.  1.  1.  1.  1.  1.  1.  1.  1.  1.  1.  1.  1.  1.\n",
      "  1.  1.  1.  1.  1.  1.], (60,), float64)\n"
     ]
    }
   ],
   "source": [
    "print(env.observation_space)"
   ]
  },
  {
   "cell_type": "code",
   "execution_count": 12,
   "metadata": {},
   "outputs": [
    {
     "name": "stdout",
     "output_type": "stream",
     "text": [
      "[ 0.          0.          9.81        0.          0.          0.\n",
      "  0.          0.          0.         -0.49791043  0.04566409  0.\n",
      "  0.          0.          0.          0.          0.          0.\n",
      "  0.          0.35358097  0.59876721  0.24518625  0.          0.\n",
      "  0.          0.          0.          0.          0.37947285  0.42439038\n",
      "  0.57955285  0.62418306  0.62667112  0.31488211  0.33488147  0.01999936\n",
      "  0.          0.45109549  0.74245344  0.33189177  0.60044509  0.73198548\n",
      "  0.40247368  0.78194652  0.          0.          0.          0.\n",
      "  0.          0.          0.31184259  0.76483616  0.45299358  0.\n",
      "  0.          0.          0.          0.          0.          0.        ]\n"
     ]
    }
   ],
   "source": [
    "print(obs)"
   ]
  },
  {
   "cell_type": "code",
   "execution_count": 13,
   "metadata": {},
   "outputs": [
    {
     "name": "stdout",
     "output_type": "stream",
     "text": [
      "Box(-1.0, 1.0, (2,), float64)\n"
     ]
    }
   ],
   "source": [
    "print(env.action_space)"
   ]
  },
  {
   "cell_type": "code",
   "execution_count": null,
   "metadata": {},
   "outputs": [
    {
     "ename": "NameError",
     "evalue": "name 'safety_gymnasium' is not defined",
     "output_type": "error",
     "traceback": [
      "\u001b[0;31m---------------------------------------------------------------------------\u001b[0m",
      "\u001b[0;31mNameError\u001b[0m                                 Traceback (most recent call last)",
      "Cell \u001b[0;32mIn[1], line 3\u001b[0m\n\u001b[1;32m      1\u001b[0m seed \u001b[38;5;241m=\u001b[39m \u001b[38;5;241m0\u001b[39m\n\u001b[1;32m      2\u001b[0m device \u001b[38;5;241m=\u001b[39m \u001b[38;5;124m\"\u001b[39m\u001b[38;5;124mcuda\u001b[39m\u001b[38;5;124m\"\u001b[39m\n\u001b[0;32m----> 3\u001b[0m envs \u001b[38;5;241m=\u001b[39m \u001b[43msafety_gymnasium\u001b[49m\u001b[38;5;241m.\u001b[39mvector\u001b[38;5;241m.\u001b[39mSafetySyncVectorEnv(\n\u001b[1;32m      4\u001b[0m     [\n\u001b[1;32m      5\u001b[0m         make_env_safety(\n\u001b[1;32m      6\u001b[0m             \u001b[38;5;124m\"\u001b[39m\u001b[38;5;124mSafetyPointGoal1-v0\u001b[39m\u001b[38;5;124m\"\u001b[39m,\n\u001b[1;32m      7\u001b[0m             i,\n\u001b[1;32m      8\u001b[0m             seed \u001b[38;5;241m+\u001b[39m i,\n\u001b[1;32m      9\u001b[0m             \u001b[38;5;28;01mTrue\u001b[39;00m,\n\u001b[1;32m     10\u001b[0m             \u001b[38;5;241m5\u001b[39m,\n\u001b[1;32m     11\u001b[0m             \u001b[38;5;28;01mFalse\u001b[39;00m,\n\u001b[1;32m     12\u001b[0m         )\n\u001b[1;32m     13\u001b[0m         \u001b[38;5;28;01mfor\u001b[39;00m i \u001b[38;5;129;01min\u001b[39;00m \u001b[38;5;28mrange\u001b[39m(\u001b[38;5;241m1\u001b[39m)\n\u001b[1;32m     14\u001b[0m     ]\n\u001b[1;32m     15\u001b[0m )\n",
      "\u001b[0;31mNameError\u001b[0m: name 'safety_gymnasium' is not defined"
     ]
    }
   ],
   "source": [
    "# envs = safety_gymnasium.vector.make(\n",
    "#     \"SafetyPointGoal1-v0\", render_mode=\"rgb_array\", num_envs=1\n",
    "# )\n",
    "envs = safety_gymnasium.vector.SafetySyncVectorEnv(\n",
    "    [\n",
    "        make_env_safety(\n",
    "            \"SafetyPointGoal1-v0\",\n",
    "            i,\n",
    "            0 + i,\n",
    "            True,\n",
    "            5,\n",
    "            False,\n",
    "        )\n",
    "        for i in range(1)\n",
    "    ]\n",
    ")"
   ]
  },
  {
   "cell_type": "code",
   "execution_count": 7,
   "metadata": {},
   "outputs": [
    {
     "name": "stderr",
     "output_type": "stream",
     "text": [
      "  9%|▉         | 986/11000 [00:02<00:21, 458.58it/s]"
     ]
    },
    {
     "name": "stdout",
     "output_type": "stream",
     "text": [
      "Moviepy - Building video /home/jacques/projects/rl-vcf/notebooks/envs/videos/rl-video-episode-0.mp4.\n",
      "Moviepy - Writing video /home/jacques/projects/rl-vcf/notebooks/envs/videos/rl-video-episode-0.mp4\n",
      "\n"
     ]
    },
    {
     "name": "stderr",
     "output_type": "stream",
     "text": [
      "  9%|▉         | 986/11000 [00:02<00:21, 458.58it/s]"
     ]
    },
    {
     "name": "stdout",
     "output_type": "stream",
     "text": [
      "Moviepy - Done !\n",
      "Moviepy - video ready /home/jacques/projects/rl-vcf/notebooks/envs/videos/rl-video-episode-0.mp4\n"
     ]
    },
    {
     "name": "stderr",
     "output_type": "stream",
     "text": [
      " 54%|█████▍    | 5967/11000 [00:10<00:10, 478.38it/s] "
     ]
    },
    {
     "name": "stdout",
     "output_type": "stream",
     "text": [
      "Moviepy - Building video /home/jacques/projects/rl-vcf/notebooks/envs/videos/rl-video-episode-5.mp4.\n",
      "Moviepy - Writing video /home/jacques/projects/rl-vcf/notebooks/envs/videos/rl-video-episode-5.mp4\n",
      "\n"
     ]
    },
    {
     "name": "stderr",
     "output_type": "stream",
     "text": [
      " 54%|█████▍    | 5967/11000 [00:11<00:10, 478.38it/s]"
     ]
    },
    {
     "name": "stdout",
     "output_type": "stream",
     "text": [
      "Moviepy - Done !\n",
      "Moviepy - video ready /home/jacques/projects/rl-vcf/notebooks/envs/videos/rl-video-episode-5.mp4\n"
     ]
    },
    {
     "name": "stderr",
     "output_type": "stream",
     "text": [
      "100%|█████████▉| 10972/11000 [00:19<00:00, 477.33it/s]"
     ]
    },
    {
     "name": "stdout",
     "output_type": "stream",
     "text": [
      "Moviepy - Building video /home/jacques/projects/rl-vcf/notebooks/envs/videos/rl-video-episode-10.mp4.\n",
      "Moviepy - Writing video /home/jacques/projects/rl-vcf/notebooks/envs/videos/rl-video-episode-10.mp4\n",
      "\n"
     ]
    },
    {
     "name": "stderr",
     "output_type": "stream",
     "text": [
      "100%|█████████▉| 10972/11000 [00:19<00:00, 477.33it/s]"
     ]
    },
    {
     "name": "stdout",
     "output_type": "stream",
     "text": [
      "Moviepy - Done !\n",
      "Moviepy - video ready /home/jacques/projects/rl-vcf/notebooks/envs/videos/rl-video-episode-10.mp4\n"
     ]
    },
    {
     "name": "stderr",
     "output_type": "stream",
     "text": [
      "100%|██████████| 11000/11000 [00:20<00:00, 543.36it/s]\n"
     ]
    }
   ],
   "source": [
    "device = \"cuda\"\n",
    "replay_buffer = ReplayBuffer(\n",
    "    envs.single_observation_space,\n",
    "    envs.single_action_space,\n",
    "    11000,\n",
    "    device,\n",
    ")\n",
    "obs = torch.Tensor(\n",
    "    envs.reset(seed=[0 + i for i in range(1)])[\n",
    "        0  # observations are first element of env reset output\n",
    "    ]\n",
    ")\n",
    "for global_step in tqdm(range(11000)):\n",
    "    act = torch.Tensor(np.array([envs.single_action_space.sample() for _ in range(1)]))\n",
    "    next_obs, rew, cost, term, trunc, info = envs.step(act.detach().cpu().numpy())\n",
    "    real_next_obs = next_obs.copy()\n",
    "    for idx, truncated in enumerate(trunc):\n",
    "        if truncated:\n",
    "            real_next_obs[idx] = info[\"final_observation\"][idx]\n",
    "    replay_buffer.store(\n",
    "        obs,\n",
    "        act,\n",
    "        torch.Tensor(rew).to(device),\n",
    "        torch.Tensor(real_next_obs).to(device),\n",
    "        torch.Tensor(term).to(device),\n",
    "    )\n",
    "    obs = torch.Tensor(next_obs).to(device)"
   ]
  },
  {
   "cell_type": "code",
   "execution_count": 32,
   "metadata": {},
   "outputs": [
    {
     "name": "stderr",
     "output_type": "stream",
     "text": [
      "/home/jacques/miniconda3/envs/rl_vcf/lib/python3.10/site-packages/gymnasium/wrappers/record_video.py:87: UserWarning: \u001b[33mWARN: Overwriting existing videos at /home/jacques/projects/rl-vcf/notebooks/envs/videos folder (try specifying a different `video_folder` for the `RecordVideo` wrapper if this is not desired)\u001b[0m\n",
      "  logger.warn(\n"
     ]
    }
   ],
   "source": [
    "env = safety_gymnasium.make(\n",
    "    \"SafetyPointGoal1-v0\",\n",
    "    render_mode=\"rgb_array\",  # need to set render mode for video recording\n",
    "    camera_name=\"fixednear\",\n",
    ")\n",
    "env = safety_gymnasium.wrappers.SafetyGymnasium2Gymnasium(env)\n",
    "env = gym.wrappers.RecordEpisodeStatistics(env)\n",
    "env = gym.wrappers.RecordVideo(\n",
    "    env,\n",
    "    \"videos\",\n",
    "    episode_trigger=lambda t: t % 5 == 0,\n",
    ")"
   ]
  },
  {
   "cell_type": "code",
   "execution_count": 33,
   "metadata": {},
   "outputs": [
    {
     "name": "stderr",
     "output_type": "stream",
     "text": [
      "  9%|▊         | 945/11000 [00:01<00:18, 555.33it/s]"
     ]
    },
    {
     "name": "stdout",
     "output_type": "stream",
     "text": [
      "Moviepy - Building video /home/jacques/projects/rl-vcf/notebooks/envs/videos/rl-video-episode-0.mp4.\n",
      "Moviepy - Writing video /home/jacques/projects/rl-vcf/notebooks/envs/videos/rl-video-episode-0.mp4\n",
      "\n"
     ]
    },
    {
     "name": "stderr",
     "output_type": "stream",
     "text": [
      "  9%|▊         | 945/11000 [00:02<00:18, 555.33it/s]"
     ]
    },
    {
     "name": "stdout",
     "output_type": "stream",
     "text": [
      "Moviepy - Done !\n",
      "Moviepy - video ready /home/jacques/projects/rl-vcf/notebooks/envs/videos/rl-video-episode-0.mp4\n"
     ]
    },
    {
     "name": "stderr",
     "output_type": "stream",
     "text": [
      " 54%|█████▍    | 5982/11000 [00:08<00:08, 576.70it/s] "
     ]
    },
    {
     "name": "stdout",
     "output_type": "stream",
     "text": [
      "Moviepy - Building video /home/jacques/projects/rl-vcf/notebooks/envs/videos/rl-video-episode-5.mp4.\n",
      "Moviepy - Writing video /home/jacques/projects/rl-vcf/notebooks/envs/videos/rl-video-episode-5.mp4\n",
      "\n"
     ]
    },
    {
     "name": "stderr",
     "output_type": "stream",
     "text": [
      " 54%|█████▍    | 5982/11000 [00:09<00:08, 576.70it/s]"
     ]
    },
    {
     "name": "stdout",
     "output_type": "stream",
     "text": [
      "Moviepy - Done !\n",
      "Moviepy - video ready /home/jacques/projects/rl-vcf/notebooks/envs/videos/rl-video-episode-5.mp4\n"
     ]
    },
    {
     "name": "stderr",
     "output_type": "stream",
     "text": [
      "100%|█████████▉| 10980/11000 [00:14<00:00, 557.07it/s]"
     ]
    },
    {
     "name": "stdout",
     "output_type": "stream",
     "text": [
      "Moviepy - Building video /home/jacques/projects/rl-vcf/notebooks/envs/videos/rl-video-episode-10.mp4.\n",
      "Moviepy - Writing video /home/jacques/projects/rl-vcf/notebooks/envs/videos/rl-video-episode-10.mp4\n",
      "\n"
     ]
    },
    {
     "name": "stderr",
     "output_type": "stream",
     "text": [
      "100%|█████████▉| 10980/11000 [00:15<00:00, 557.07it/s]"
     ]
    },
    {
     "name": "stdout",
     "output_type": "stream",
     "text": [
      "Moviepy - Done !\n",
      "Moviepy - video ready /home/jacques/projects/rl-vcf/notebooks/envs/videos/rl-video-episode-10.mp4\n"
     ]
    },
    {
     "name": "stderr",
     "output_type": "stream",
     "text": [
      "100%|██████████| 11000/11000 [00:16<00:00, 686.68it/s]\n"
     ]
    }
   ],
   "source": [
    "env.reset(seed=0)\n",
    "for global_step in tqdm(range(11000)):\n",
    "    act = env.action_space.sample()\n",
    "    next_obs, rew, term, trunc, info = env.step(act)  # info contains cost\n",
    "    if term or trunc:\n",
    "        env.reset()  # need to manually reset if not in sync vector env"
   ]
  },
  {
   "cell_type": "code",
   "execution_count": 14,
   "metadata": {},
   "outputs": [],
   "source": [
    "env = safety_gymnasium.make(\"SafetyPointZoneEnv0-v0\", render_mode=\"rgb_array\")\n",
    "obs, info = env.reset(seed=0)"
   ]
  },
  {
   "cell_type": "code",
   "execution_count": 15,
   "metadata": {},
   "outputs": [
    {
     "name": "stdout",
     "output_type": "stream",
     "text": [
      "Dict('accelerometer': Box(-inf, inf, (3,), float64), 'velocimeter': Box(-inf, inf, (3,), float64), 'gyro': Box(-inf, inf, (3,), float64), 'magnetometer': Box(-inf, inf, (3,), float64), 'green_zones_lidar': Box(0.0, 1.0, (16,), float64))\n"
     ]
    }
   ],
   "source": [
    "print(env.observation_space)"
   ]
  },
  {
   "cell_type": "code",
   "execution_count": 16,
   "metadata": {},
   "outputs": [
    {
     "name": "stdout",
     "output_type": "stream",
     "text": [
      "OrderedDict([('accelerometer', Box(-inf, inf, (3,), float64)), ('velocimeter', Box(-inf, inf, (3,), float64)), ('gyro', Box(-inf, inf, (3,), float64)), ('magnetometer', Box(-inf, inf, (3,), float64)), ('green_zones_lidar', Box(0.0, 1.0, (16,), float64))])\n"
     ]
    }
   ],
   "source": [
    "print(env.observation_space.spaces)"
   ]
  },
  {
   "cell_type": "code",
   "execution_count": 17,
   "metadata": {},
   "outputs": [
    {
     "name": "stdout",
     "output_type": "stream",
     "text": [
      "Dict('accelerometer': Box(-inf, inf, (3,), float64), 'velocimeter': Box(-inf, inf, (3,), float64), 'gyro': Box(-inf, inf, (3,), float64), 'magnetometer': Box(-inf, inf, (3,), float64), 'green_zones_lidar': Box(0.0, 1.0, (16,), float64))\n"
     ]
    }
   ],
   "source": [
    "print(env.obs_space_dict)"
   ]
  },
  {
   "cell_type": "code",
   "execution_count": 18,
   "metadata": {},
   "outputs": [
    {
     "name": "stdout",
     "output_type": "stream",
     "text": [
      "Box(-1.0, 1.0, (2,), float64)\n"
     ]
    }
   ],
   "source": [
    "print(env.action_space)"
   ]
  },
  {
   "cell_type": "code",
   "execution_count": 19,
   "metadata": {},
   "outputs": [
    {
     "name": "stdout",
     "output_type": "stream",
     "text": [
      "{'accelerometer': array([0.  , 0.  , 9.81]), 'velocimeter': array([0., 0., 0.]), 'gyro': array([0., 0., 0.]), 'magnetometer': array([-0.06334726, -0.49597089,  0.        ]), 'green_zones_lidar': array([0.        , 0.        , 0.        , 0.        , 0.        ,\n",
      "       0.        , 0.        , 0.        , 0.        , 0.19935754,\n",
      "       0.20825497, 0.00889742, 0.06227048, 0.54252891, 0.48025843,\n",
      "       0.        ])}\n"
     ]
    }
   ],
   "source": [
    "print(obs)"
   ]
  },
  {
   "cell_type": "code",
   "execution_count": 20,
   "metadata": {},
   "outputs": [],
   "source": [
    "env = safety_gymnasium.make(\"SafetyPointZoneEnv0-v0\", render_mode=\"rgb_array\")\n",
    "env = gym.wrappers.FlattenObservation(env)\n",
    "obs, info = env.reset(seed=0)"
   ]
  },
  {
   "cell_type": "code",
   "execution_count": 21,
   "metadata": {},
   "outputs": [
    {
     "name": "stdout",
     "output_type": "stream",
     "text": [
      "Box([-inf -inf -inf -inf -inf -inf -inf -inf -inf -inf -inf -inf   0.   0.\n",
      "   0.   0.   0.   0.   0.   0.   0.   0.   0.   0.   0.   0.   0.   0.], [inf inf inf inf inf inf inf inf inf inf inf inf  1.  1.  1.  1.  1.  1.\n",
      "  1.  1.  1.  1.  1.  1.  1.  1.  1.  1.], (28,), float64)\n"
     ]
    }
   ],
   "source": [
    "print(env.observation_space)"
   ]
  },
  {
   "cell_type": "code",
   "execution_count": 22,
   "metadata": {},
   "outputs": [
    {
     "name": "stdout",
     "output_type": "stream",
     "text": [
      "[ 0.00000000e+00  0.00000000e+00  9.81000000e+00  0.00000000e+00\n",
      "  0.00000000e+00  0.00000000e+00  0.00000000e+00  0.00000000e+00\n",
      "  0.00000000e+00 -6.33472631e-02 -4.95970891e-01  0.00000000e+00\n",
      "  0.00000000e+00  0.00000000e+00  0.00000000e+00  0.00000000e+00\n",
      "  0.00000000e+00  0.00000000e+00  0.00000000e+00  0.00000000e+00\n",
      "  0.00000000e+00  1.99357544e-01  2.08254969e-01  8.89742497e-03\n",
      "  6.22704774e-02  5.42528908e-01  4.80258430e-01  0.00000000e+00]\n",
      "float64\n"
     ]
    }
   ],
   "source": [
    "print(obs)\n",
    "print(obs.dtype)"
   ]
  }
 ],
 "metadata": {
  "kernelspec": {
   "display_name": "rl_vcf",
   "language": "python",
   "name": "python3"
  },
  "language_info": {
   "codemirror_mode": {
    "name": "ipython",
    "version": 3
   },
   "file_extension": ".py",
   "mimetype": "text/x-python",
   "name": "python",
   "nbconvert_exporter": "python",
   "pygments_lexer": "ipython3",
   "version": "3.10.15"
  }
 },
 "nbformat": 4,
 "nbformat_minor": 2
}
