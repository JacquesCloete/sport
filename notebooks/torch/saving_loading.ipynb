{
 "cells": [
  {
   "cell_type": "markdown",
   "metadata": {},
   "source": [
    "Testing saving and loading a model"
   ]
  },
  {
   "cell_type": "code",
   "execution_count": 1,
   "metadata": {},
   "outputs": [],
   "source": [
    "import torch\n",
    "import torch.nn as nn  # noqa: F401\n",
    "import safety_gymnasium\n",
    "\n",
    "from rl_vcf.rl.algos.sac.core import MLPActorCritic\n",
    "from rl_vcf.rl.algos.ppo.core import MLPActorCritic as PPO_MLPActorCritic\n",
    "from rl_vcf.rl.utils.make_env import make_env_safety\n",
    "from rl_vcf.rl.utils.get_actor_structure import get_actor_structure"
   ]
  },
  {
   "cell_type": "code",
   "execution_count": 2,
   "metadata": {},
   "outputs": [],
   "source": [
    "seed = 0\n",
    "device = \"cuda\"\n",
    "num_envs = 4\n",
    "envs = safety_gymnasium.vector.SafetySyncVectorEnv(\n",
    "    [\n",
    "        make_env_safety(\n",
    "            \"SafetyPointReachAvoidReset1-v0\",\n",
    "            i,\n",
    "            seed + i,\n",
    "            False,\n",
    "            5,\n",
    "            False,\n",
    "        )\n",
    "        for i in range(num_envs)\n",
    "    ]\n",
    ")"
   ]
  },
  {
   "cell_type": "code",
   "execution_count": 3,
   "metadata": {},
   "outputs": [
    {
     "name": "stdout",
     "output_type": "stream",
     "text": [
      "MLPActorCritic(\n",
      "  (pi): MLPSquashedGaussianActor(\n",
      "    (net): Sequential(\n",
      "      (0): Linear(in_features=44, out_features=256, bias=True)\n",
      "      (1): ReLU()\n",
      "      (2): Linear(in_features=256, out_features=256, bias=True)\n",
      "      (3): ReLU()\n",
      "    )\n",
      "    (mu_layer): Linear(in_features=256, out_features=2, bias=True)\n",
      "    (log_std_layer): Linear(in_features=256, out_features=2, bias=True)\n",
      "  )\n",
      "  (q1): MLPCritic(\n",
      "    (net): Sequential(\n",
      "      (0): Linear(in_features=46, out_features=256, bias=True)\n",
      "      (1): ReLU()\n",
      "      (2): Linear(in_features=256, out_features=256, bias=True)\n",
      "      (3): ReLU()\n",
      "      (4): Linear(in_features=256, out_features=1, bias=True)\n",
      "      (5): Identity()\n",
      "    )\n",
      "  )\n",
      "  (q2): MLPCritic(\n",
      "    (net): Sequential(\n",
      "      (0): Linear(in_features=46, out_features=256, bias=True)\n",
      "      (1): ReLU()\n",
      "      (2): Linear(in_features=256, out_features=256, bias=True)\n",
      "      (3): ReLU()\n",
      "      (4): Linear(in_features=256, out_features=1, bias=True)\n",
      "      (5): Identity()\n",
      "    )\n",
      "  )\n",
      ")\n",
      "ReLU\n"
     ]
    }
   ],
   "source": [
    "agent = MLPActorCritic(\n",
    "    envs.single_observation_space,\n",
    "    envs.single_action_space,\n",
    "    hidden_sizes=[256, 256],\n",
    "    # eval(\"nn.\" + cfg.network.activation + \"()\"),\n",
    "    activation=torch.nn.ReLU(),\n",
    ").to(device)\n",
    "print(agent)\n",
    "print(agent.pi.get_activation())"
   ]
  },
  {
   "cell_type": "code",
   "execution_count": 4,
   "metadata": {},
   "outputs": [
    {
     "name": "stdout",
     "output_type": "stream",
     "text": [
      "Parameter containing:\n",
      "tensor([[ 0.0287, -0.0141, -0.1164,  ...,  0.0345, -0.0006, -0.0698],\n",
      "        [-0.1231,  0.0375, -0.0682,  ...,  0.0618,  0.0182,  0.0390],\n",
      "        [ 0.0429,  0.0194, -0.1329,  ...,  0.1040,  0.1481,  0.0021],\n",
      "        ...,\n",
      "        [ 0.1274,  0.1031,  0.1231,  ..., -0.1129,  0.0275,  0.1056],\n",
      "        [ 0.1054,  0.0275, -0.1252,  ...,  0.0678, -0.0468,  0.0875],\n",
      "        [-0.0237, -0.0051,  0.0100,  ...,  0.0543, -0.0444,  0.1044]],\n",
      "       device='cuda:0', requires_grad=True)\n",
      "Parameter containing:\n",
      "tensor([[-0.0659, -0.0634, -0.0326,  ...,  0.1391,  0.0181, -0.0374],\n",
      "        [ 0.0657,  0.0929,  0.1088,  ...,  0.0698, -0.0766, -0.0223],\n",
      "        [-0.0937, -0.0613,  0.0921,  ...,  0.0697,  0.0386,  0.0474],\n",
      "        ...,\n",
      "        [ 0.1065,  0.0181,  0.1083,  ..., -0.0346, -0.0680,  0.1389],\n",
      "        [-0.0030,  0.0340,  0.1257,  ...,  0.0346,  0.1360, -0.0448],\n",
      "        [-0.1329, -0.1097, -0.1429,  ..., -0.0664, -0.0400,  0.0012]],\n",
      "       device='cuda:0', requires_grad=True)\n"
     ]
    }
   ],
   "source": [
    "print(agent.pi.net[0].weight)\n",
    "print(agent.q1.net[0].weight)"
   ]
  },
  {
   "cell_type": "code",
   "execution_count": 5,
   "metadata": {},
   "outputs": [],
   "source": [
    "torch.save(agent.pi.state_dict(), \"test_policy.pt\")"
   ]
  },
  {
   "cell_type": "code",
   "execution_count": 6,
   "metadata": {},
   "outputs": [
    {
     "name": "stdout",
     "output_type": "stream",
     "text": [
      "[256, 256]\n",
      "ReLU\n"
     ]
    }
   ],
   "source": [
    "loaded_state_dict = torch.load(\"test_policy.pt\", weights_only=True, map_location=device)\n",
    "loaded_hidden_sizes, loaded_activation = get_actor_structure(\n",
    "    loaded_state_dict, envs.single_observation_space, envs.single_action_space\n",
    ")\n",
    "print(loaded_hidden_sizes)\n",
    "print(loaded_activation)"
   ]
  },
  {
   "cell_type": "code",
   "execution_count": 7,
   "metadata": {},
   "outputs": [
    {
     "name": "stdout",
     "output_type": "stream",
     "text": [
      "MLPActorCritic(\n",
      "  (pi): MLPSquashedGaussianActor(\n",
      "    (net): Sequential(\n",
      "      (0): Linear(in_features=44, out_features=256, bias=True)\n",
      "      (1): ReLU()\n",
      "      (2): Linear(in_features=256, out_features=256, bias=True)\n",
      "      (3): ReLU()\n",
      "    )\n",
      "    (mu_layer): Linear(in_features=256, out_features=2, bias=True)\n",
      "    (log_std_layer): Linear(in_features=256, out_features=2, bias=True)\n",
      "  )\n",
      "  (q1): MLPCritic(\n",
      "    (net): Sequential(\n",
      "      (0): Linear(in_features=46, out_features=256, bias=True)\n",
      "      (1): ReLU()\n",
      "      (2): Linear(in_features=256, out_features=256, bias=True)\n",
      "      (3): ReLU()\n",
      "      (4): Linear(in_features=256, out_features=1, bias=True)\n",
      "      (5): Identity()\n",
      "    )\n",
      "  )\n",
      "  (q2): MLPCritic(\n",
      "    (net): Sequential(\n",
      "      (0): Linear(in_features=46, out_features=256, bias=True)\n",
      "      (1): ReLU()\n",
      "      (2): Linear(in_features=256, out_features=256, bias=True)\n",
      "      (3): ReLU()\n",
      "      (4): Linear(in_features=256, out_features=1, bias=True)\n",
      "      (5): Identity()\n",
      "    )\n",
      "  )\n",
      ")\n",
      "ReLU\n"
     ]
    }
   ],
   "source": [
    "new_agent = MLPActorCritic(\n",
    "    envs.single_observation_space,\n",
    "    envs.single_action_space,\n",
    "    loaded_hidden_sizes,\n",
    "    eval(\"nn.\" + loaded_activation + \"()\"),\n",
    ")\n",
    "print(new_agent)\n",
    "print(new_agent.pi.get_activation())"
   ]
  },
  {
   "cell_type": "code",
   "execution_count": 8,
   "metadata": {},
   "outputs": [
    {
     "name": "stdout",
     "output_type": "stream",
     "text": [
      "Parameter containing:\n",
      "tensor([[ 0.0991,  0.0378,  0.1220,  ...,  0.0729, -0.0199, -0.0672],\n",
      "        [-0.0644, -0.0175,  0.0420,  ...,  0.0534,  0.0914,  0.1075],\n",
      "        [ 0.1151,  0.1133,  0.1427,  ..., -0.0643,  0.0560, -0.0704],\n",
      "        ...,\n",
      "        [ 0.1182,  0.0561, -0.0307,  ...,  0.1106, -0.0657,  0.0514],\n",
      "        [-0.1204,  0.1128, -0.1491,  ..., -0.1187,  0.0498,  0.1347],\n",
      "        [-0.0143, -0.0027,  0.0584,  ...,  0.1497,  0.1215,  0.0417]],\n",
      "       requires_grad=True)\n",
      "Parameter containing:\n",
      "tensor([[-0.0281, -0.0707,  0.1460,  ..., -0.0548,  0.0095, -0.0572],\n",
      "        [ 0.1247,  0.0280, -0.0600,  ..., -0.1309,  0.1410, -0.0218],\n",
      "        [ 0.0449, -0.1462, -0.0489,  ..., -0.0056, -0.0667,  0.0621],\n",
      "        ...,\n",
      "        [-0.1035,  0.0369, -0.1432,  ...,  0.1383, -0.1434, -0.1373],\n",
      "        [-0.0095,  0.0188, -0.0195,  ...,  0.1038, -0.0553, -0.0301],\n",
      "        [-0.0209, -0.0409,  0.0363,  ..., -0.0510, -0.1251, -0.0905]],\n",
      "       requires_grad=True)\n",
      "Parameter containing:\n",
      "tensor([[ 0.0287, -0.0141, -0.1164,  ...,  0.0345, -0.0006, -0.0698],\n",
      "        [-0.1231,  0.0375, -0.0682,  ...,  0.0618,  0.0182,  0.0390],\n",
      "        [ 0.0429,  0.0194, -0.1329,  ...,  0.1040,  0.1481,  0.0021],\n",
      "        ...,\n",
      "        [ 0.1274,  0.1031,  0.1231,  ..., -0.1129,  0.0275,  0.1056],\n",
      "        [ 0.1054,  0.0275, -0.1252,  ...,  0.0678, -0.0468,  0.0875],\n",
      "        [-0.0237, -0.0051,  0.0100,  ...,  0.0543, -0.0444,  0.1044]],\n",
      "       device='cuda:0', requires_grad=True)\n",
      "Parameter containing:\n",
      "tensor([[-0.0281, -0.0707,  0.1460,  ..., -0.0548,  0.0095, -0.0572],\n",
      "        [ 0.1247,  0.0280, -0.0600,  ..., -0.1309,  0.1410, -0.0218],\n",
      "        [ 0.0449, -0.1462, -0.0489,  ..., -0.0056, -0.0667,  0.0621],\n",
      "        ...,\n",
      "        [-0.1035,  0.0369, -0.1432,  ...,  0.1383, -0.1434, -0.1373],\n",
      "        [-0.0095,  0.0188, -0.0195,  ...,  0.1038, -0.0553, -0.0301],\n",
      "        [-0.0209, -0.0409,  0.0363,  ..., -0.0510, -0.1251, -0.0905]],\n",
      "       device='cuda:0', requires_grad=True)\n"
     ]
    }
   ],
   "source": [
    "print(new_agent.pi.net[0].weight)\n",
    "print(new_agent.q1.net[0].weight)\n",
    "new_agent.pi.load_state_dict(loaded_state_dict, strict=True)\n",
    "new_agent.to(device)\n",
    "print(new_agent.pi.net[0].weight)\n",
    "print(new_agent.q1.net[0].weight)"
   ]
  },
  {
   "cell_type": "code",
   "execution_count": 9,
   "metadata": {},
   "outputs": [
    {
     "name": "stdout",
     "output_type": "stream",
     "text": [
      "MLPActorCritic(\n",
      "  (pi): MLPSquashedGaussianActor(\n",
      "    (net): Sequential(\n",
      "      (0): Linear(in_features=44, out_features=256, bias=True)\n",
      "      (1): ReLU()\n",
      "      (2): Linear(in_features=256, out_features=256, bias=True)\n",
      "      (3): ReLU()\n",
      "    )\n",
      "    (mu_layer): Linear(in_features=256, out_features=2, bias=True)\n",
      "    (log_std_layer): Linear(in_features=256, out_features=2, bias=True)\n",
      "  )\n",
      "  (v): MLPCritic(\n",
      "    (net): Sequential(\n",
      "      (0): Linear(in_features=44, out_features=256, bias=True)\n",
      "      (1): ReLU()\n",
      "      (2): Linear(in_features=256, out_features=256, bias=True)\n",
      "      (3): ReLU()\n",
      "      (4): Linear(in_features=256, out_features=1, bias=True)\n",
      "      (5): Identity()\n",
      "    )\n",
      "  )\n",
      ")\n",
      "ReLU\n"
     ]
    }
   ],
   "source": [
    "ppo_agent = PPO_MLPActorCritic(\n",
    "    envs.single_observation_space,\n",
    "    envs.single_action_space,\n",
    "    loaded_hidden_sizes,\n",
    "    eval(\"nn.\" + loaded_activation + \"()\"),\n",
    "    True,\n",
    ")\n",
    "print(ppo_agent)\n",
    "print(ppo_agent.pi.get_activation())"
   ]
  },
  {
   "cell_type": "code",
   "execution_count": 10,
   "metadata": {},
   "outputs": [
    {
     "name": "stdout",
     "output_type": "stream",
     "text": [
      "Parameter containing:\n",
      "tensor([[ 0.0014, -0.0523,  0.0203,  ...,  0.1303,  0.0200,  0.0484],\n",
      "        [-0.0374, -0.1132, -0.1378,  ..., -0.1458,  0.0101,  0.0622],\n",
      "        [ 0.1842, -0.0429, -0.0459,  ..., -0.0407, -0.0374, -0.0652],\n",
      "        ...,\n",
      "        [-0.2086,  0.2150,  0.1201,  ..., -0.0284, -0.0738, -0.0856],\n",
      "        [-0.1056,  0.0692, -0.0201,  ...,  0.0167, -0.0083,  0.0625],\n",
      "        [ 0.0227, -0.0055, -0.0102,  ..., -0.0587,  0.0105, -0.1043]],\n",
      "       requires_grad=True)\n",
      "Parameter containing:\n",
      "tensor([[-0.1743, -0.1366, -0.0315,  ..., -0.1350, -0.0731, -0.1107],\n",
      "        [ 0.0010, -0.1279,  0.1020,  ...,  0.1600, -0.0319,  0.1045],\n",
      "        [ 0.0131,  0.0114,  0.0543,  ..., -0.1943, -0.0229,  0.0381],\n",
      "        ...,\n",
      "        [-0.0665,  0.0321, -0.0273,  ..., -0.0963,  0.1352, -0.0017],\n",
      "        [-0.1477, -0.1125, -0.0514,  ...,  0.0006,  0.0386,  0.0470],\n",
      "        [-0.0880, -0.0126, -0.0906,  ..., -0.0248,  0.0592, -0.1519]],\n",
      "       requires_grad=True)\n",
      "Parameter containing:\n",
      "tensor([[ 0.0287, -0.0141, -0.1164,  ...,  0.0345, -0.0006, -0.0698],\n",
      "        [-0.1231,  0.0375, -0.0682,  ...,  0.0618,  0.0182,  0.0390],\n",
      "        [ 0.0429,  0.0194, -0.1329,  ...,  0.1040,  0.1481,  0.0021],\n",
      "        ...,\n",
      "        [ 0.1274,  0.1031,  0.1231,  ..., -0.1129,  0.0275,  0.1056],\n",
      "        [ 0.1054,  0.0275, -0.1252,  ...,  0.0678, -0.0468,  0.0875],\n",
      "        [-0.0237, -0.0051,  0.0100,  ...,  0.0543, -0.0444,  0.1044]],\n",
      "       device='cuda:0', requires_grad=True)\n",
      "Parameter containing:\n",
      "tensor([[-0.1743, -0.1366, -0.0315,  ..., -0.1350, -0.0731, -0.1107],\n",
      "        [ 0.0010, -0.1279,  0.1020,  ...,  0.1600, -0.0319,  0.1045],\n",
      "        [ 0.0131,  0.0114,  0.0543,  ..., -0.1943, -0.0229,  0.0381],\n",
      "        ...,\n",
      "        [-0.0665,  0.0321, -0.0273,  ..., -0.0963,  0.1352, -0.0017],\n",
      "        [-0.1477, -0.1125, -0.0514,  ...,  0.0006,  0.0386,  0.0470],\n",
      "        [-0.0880, -0.0126, -0.0906,  ..., -0.0248,  0.0592, -0.1519]],\n",
      "       device='cuda:0', requires_grad=True)\n"
     ]
    }
   ],
   "source": [
    "print(ppo_agent.pi.net[0].weight)\n",
    "print(ppo_agent.v.net[0].weight)\n",
    "ppo_agent.pi.load_state_dict(loaded_state_dict, strict=True)\n",
    "ppo_agent.to(device)\n",
    "print(ppo_agent.pi.net[0].weight)\n",
    "print(ppo_agent.v.net[0].weight)"
   ]
  }
 ],
 "metadata": {
  "kernelspec": {
   "display_name": "rl_vcf",
   "language": "python",
   "name": "python3"
  },
  "language_info": {
   "codemirror_mode": {
    "name": "ipython",
    "version": 3
   },
   "file_extension": ".py",
   "mimetype": "text/x-python",
   "name": "python",
   "nbconvert_exporter": "python",
   "pygments_lexer": "ipython3",
   "version": "3.10.15"
  }
 },
 "nbformat": 4,
 "nbformat_minor": 2
}
