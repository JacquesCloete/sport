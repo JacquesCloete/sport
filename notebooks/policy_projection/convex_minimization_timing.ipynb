{
 "cells": [
  {
   "cell_type": "markdown",
   "metadata": {},
   "source": [
    "# Convex Minimization Timing\n",
    "\n",
    "This notbook is used to time how long it takes to run the solver for the optimization problem, using DCP and DPP."
   ]
  },
  {
   "cell_type": "code",
   "execution_count": 1,
   "metadata": {},
   "outputs": [],
   "source": [
    "import numpy as np\n",
    "import cvxpy as cp\n",
    "import time\n",
    "import matplotlib.pyplot as plt"
   ]
  },
  {
   "cell_type": "code",
   "execution_count": 2,
   "metadata": {},
   "outputs": [],
   "source": [
    "times_dcp = np.zeros(10)\n",
    "times_dpp = np.zeros(10)"
   ]
  },
  {
   "cell_type": "code",
   "execution_count": 70,
   "metadata": {},
   "outputs": [],
   "source": [
    "# Setup\n",
    "ACT_DIM = 10  # action space dimensions\n",
    "ETA = 1e-8  # used to enforce strict inequality\n",
    "\n",
    "alpha = cp.Parameter()  # (> 1) constraint on maximum policy ratio\n",
    "\n",
    "# safe policy (cvxpy parameters)\n",
    "mu_safe = cp.Parameter(ACT_DIM)\n",
    "sigma_safe = cp.Parameter(ACT_DIM, pos=True)\n",
    "\n",
    "# task policy (cvxpy parameters)\n",
    "mu_task = cp.Parameter(ACT_DIM)\n",
    "sigma_task = cp.Parameter(ACT_DIM, pos=True)\n",
    "\n",
    "# projected policy (cvxpy variables)\n",
    "mu_proj = cp.Variable(ACT_DIM)\n",
    "sigma_proj = cp.Variable(ACT_DIM, pos=True)\n",
    "\n",
    "\n",
    "# Additional variables/parameters for DPP\n",
    "# safe policy (cvxpy parameters)\n",
    "sigma_safe_inv = cp.Parameter(ACT_DIM, pos=True)  # 1/sigma_safe\n",
    "sigma_sigma_safe = cp.Parameter(ACT_DIM, pos=True)  # sigma_safe^2\n",
    "\n",
    "# task policy (cvxpy parameters)\n",
    "sigma_task_inv = cp.Parameter(ACT_DIM, pos=True)  # 1/sigma_task\n",
    "mu_sigma_task = cp.Parameter(ACT_DIM)  # mu_task/sigma_task\n",
    "mu_sigma_sigma_task = cp.Parameter(ACT_DIM)  # mu_task/(sigma_task)^2\n",
    "\n",
    "# sum term (cvxpy variables)\n",
    "mu_safe_var = cp.Variable(ACT_DIM)  # mu_safe\n",
    "sigma_sigma_safe_var = cp.Variable(ACT_DIM, pos=True)  # sigma_safe^2"
   ]
  },
  {
   "cell_type": "code",
   "execution_count": 71,
   "metadata": {},
   "outputs": [],
   "source": [
    "# Problem definition\n",
    "objective_dcp = cp.Minimize(\n",
    "    -2 * cp.sum(cp.log(sigma_proj))\n",
    "    + cp.sum_squares(sigma_proj / sigma_task)\n",
    "    + cp.sum_squares((mu_proj - mu_task) / sigma_task)\n",
    ")\n",
    "\n",
    "constraints_dcp = []\n",
    "\n",
    "constraint_1_dcp = sigma_proj + ETA <= sigma_safe\n",
    "constraints_dcp.append(constraint_1_dcp)\n",
    "\n",
    "sum_term_dcp = 0  # we define the sum term like this so that we can use quad_over_lin and thus allow the problem to be DCP (standard quotient operator is not DCP)\n",
    "for i in range(0, ACT_DIM):\n",
    "    sum_term_dcp += cp.quad_over_lin(\n",
    "        mu_proj[i] - mu_safe[i], cp.square(sigma_safe[i]) - cp.square(sigma_proj[i])\n",
    "    )  # note that numerator gets squared (which we want)\n",
    "\n",
    "constraint_2_dcp = cp.sum(cp.log(sigma_safe)) - cp.sum(cp.log(sigma_proj)) + (\n",
    "    1 / 2\n",
    ") * sum_term_dcp <= cp.log(alpha)\n",
    "constraints_dcp.append(constraint_2_dcp)\n",
    "\n",
    "prob_dcp = cp.Problem(objective_dcp, constraints_dcp)"
   ]
  },
  {
   "cell_type": "code",
   "execution_count": 72,
   "metadata": {},
   "outputs": [],
   "source": [
    "# Problem re-definition as DPP\n",
    "objective_dpp = cp.Minimize(\n",
    "    -2 * cp.sum(cp.log(sigma_proj))\n",
    "    + cp.sum_squares(cp.multiply(sigma_proj, sigma_task_inv))\n",
    "    + cp.sum_squares(cp.multiply(mu_proj, sigma_task_inv))\n",
    "    - 2 * cp.sum(cp.multiply(mu_proj, mu_sigma_sigma_task))\n",
    "    + cp.sum_squares(mu_sigma_task)\n",
    ")\n",
    "\n",
    "constraints_dpp = []\n",
    "\n",
    "constraint_1_dpp = sigma_proj + ETA <= sigma_safe\n",
    "constraints_dpp.append(constraint_1_dpp)\n",
    "\n",
    "sum_term_dpp = 0  # we define the sum term like this so that we can use quad_over_lin and thus allow the problem to be DCP (standard quotient operator is not DCP)\n",
    "for i in range(0, ACT_DIM):\n",
    "    sum_term_dpp += cp.quad_over_lin(\n",
    "        mu_proj[i] - mu_safe_var[i], sigma_sigma_safe_var[i] - cp.square(sigma_proj[i])\n",
    "    )  # note that numerator gets squared (which we want)\n",
    "\n",
    "constraint_2_dpp = -cp.sum(cp.log(sigma_safe_inv)) - cp.sum(cp.log(sigma_proj)) + (\n",
    "    1 / 2\n",
    ") * sum_term_dpp <= cp.log(alpha)\n",
    "constraints_dpp.append(constraint_2_dpp)\n",
    "\n",
    "constraint_3_dpp = mu_safe_var == mu_safe\n",
    "constraints_dpp.append(constraint_3_dpp)\n",
    "\n",
    "constraint_4_dpp = sigma_sigma_safe_var == sigma_sigma_safe\n",
    "constraints_dpp.append(constraint_4_dpp)\n",
    "\n",
    "prob_dpp = cp.Problem(objective_dpp, constraints_dpp)"
   ]
  },
  {
   "cell_type": "code",
   "execution_count": 73,
   "metadata": {},
   "outputs": [],
   "source": [
    "# Generate examples\n",
    "alpha.value = 1.1  # (> 1) constraint on maximum policy ratio\n",
    "\n",
    "STRAY_FACTOR = 0.05  # factor on how far the task policy strays from the safe policy\n",
    "\n",
    "N = 1000  # no. examples\n",
    "\n",
    "mu_safe_list = []\n",
    "sigma_safe_list = []\n",
    "\n",
    "mu_task_list = []\n",
    "sigma_task_list = []\n",
    "\n",
    "sigma_safe_inv_list = []\n",
    "sigma_sigma_safe_list = []\n",
    "\n",
    "sigma_task_inv_list = []\n",
    "mu_sigma_task_list = []\n",
    "mu_sigma_sigma_task_list = []\n",
    "\n",
    "for i in range(0, N):\n",
    "    # safe policy\n",
    "    mu_safe_list.append(np.random.randn(ACT_DIM))\n",
    "    sigma_safe_list.append(np.random.rayleigh(scale=0.5, size=ACT_DIM))  # > 0\n",
    "\n",
    "    # task policy\n",
    "    mu_task_list.append(\n",
    "        mu_safe_list[i] + STRAY_FACTOR * np.random.randn(ACT_DIM)\n",
    "    )  # put task policy mean somewhere fairly close to safe policy mean\n",
    "    sigma_task_list.append(\n",
    "        sigma_safe_list[i]\n",
    "        - np.minimum(\n",
    "            STRAY_FACTOR\n",
    "            * sigma_safe_list[i]\n",
    "            * np.random.rayleigh(scale=0.5, size=ACT_DIM),\n",
    "            sigma_safe_list[i] - ETA,\n",
    "        )\n",
    "    )  # put task policy stdev somewhere fairly close to but less than safe policy stdev (and > 0)\n",
    "\n",
    "    # Set additional DPP parameters for examples\n",
    "\n",
    "    sigma_safe_inv_list.append(1 / sigma_safe_list[i])  # 1/sigma_safe\n",
    "    sigma_sigma_safe_list.append(np.square(sigma_safe_list[i]))  # sigma_safe^2\n",
    "\n",
    "    # task policy (cvxpy parameters)\n",
    "    sigma_task_inv_list.append(1 / sigma_task_list[i])  # 1/sigma_task\n",
    "    mu_sigma_task_list.append(\n",
    "        mu_task_list[i] / sigma_task_list[i]\n",
    "    )  # mu_task/sigma_task\n",
    "    mu_sigma_sigma_task_list.append(\n",
    "        mu_task_list[i] / np.square(sigma_task_list[i])\n",
    "    )  # mu_task/(sigma_task)^2"
   ]
  },
  {
   "cell_type": "code",
   "execution_count": 74,
   "metadata": {},
   "outputs": [
    {
     "name": "stdout",
     "output_type": "stream",
     "text": [
      "0.02306832814216614\n"
     ]
    }
   ],
   "source": [
    "# Time DCP\n",
    "\n",
    "t0_dcp = time.time()\n",
    "for i in range(0, N):\n",
    "    mu_safe.value = mu_safe_list[i]\n",
    "    sigma_safe.value = sigma_safe_list[i]\n",
    "\n",
    "    mu_task.value = mu_task_list[i]\n",
    "    sigma_task.value = sigma_task_list[i]\n",
    "\n",
    "    sigma_safe_inv.value = sigma_safe_inv_list[i]\n",
    "    sigma_sigma_safe.value = sigma_sigma_safe_list[i]\n",
    "\n",
    "    sigma_task_inv.value = sigma_task_inv_list[i]\n",
    "    mu_sigma_task.value = mu_sigma_task_list[i]\n",
    "    mu_sigma_sigma_task.value = mu_sigma_sigma_task_list[i]\n",
    "\n",
    "    # warm start as safe policy\n",
    "    # bad idea since sigma_proj = sigma_safe messes things up\n",
    "    # mu_proj.value = mu_safe_list[i]\n",
    "    # sigma_proj.value = sigma_safe_list[i]\n",
    "    # mu_safe_var.value = mu_safe_list[i]\n",
    "    # sigma_sigma_safe_var.value = np.square(sigma_safe_list[i])\n",
    "\n",
    "    result = prob_dcp.solve()\n",
    "    # result = prob_dcp.solve(warm_start=True)\n",
    "t1_dcp = time.time()\n",
    "\n",
    "time_avg_dcp = (t1_dcp - t0_dcp) / N\n",
    "print((time_avg_dcp))\n",
    "\n",
    "times_dcp[ACT_DIM - 1] = time_avg_dcp\n",
    "# times_dcp = np.append(times_dcp,time_avg_dcp)"
   ]
  },
  {
   "cell_type": "code",
   "execution_count": 75,
   "metadata": {},
   "outputs": [
    {
     "name": "stdout",
     "output_type": "stream",
     "text": [
      "0.0019739484786987305\n"
     ]
    }
   ],
   "source": [
    "# Time DPP\n",
    "\n",
    "t0_dpp = time.time()\n",
    "for i in range(0, N):\n",
    "    mu_safe.value = mu_safe_list[i]\n",
    "    sigma_safe.value = sigma_safe_list[i]\n",
    "\n",
    "    mu_task.value = mu_task_list[i]\n",
    "    sigma_task.value = sigma_task_list[i]\n",
    "\n",
    "    sigma_safe_inv.value = sigma_safe_inv_list[i]\n",
    "    sigma_sigma_safe.value = sigma_sigma_safe_list[i]\n",
    "\n",
    "    sigma_task_inv.value = sigma_task_inv_list[i]\n",
    "    mu_sigma_task.value = mu_sigma_task_list[i]\n",
    "    mu_sigma_sigma_task.value = mu_sigma_sigma_task_list[i]\n",
    "\n",
    "    # warm start as safe policy\n",
    "    # bad idea since sigma_proj = sigma_safe messes things up\n",
    "    # mu_proj.value = mu_safe_list[i]\n",
    "    # sigma_proj.value = sigma_safe_list[i]\n",
    "    # mu_safe_var.value = mu_safe_list[i]\n",
    "    # sigma_sigma_safe_var.value = np.square(sigma_safe_list[i])\n",
    "\n",
    "    result = prob_dpp.solve()\n",
    "    # result = prob_dpp.solve(warm_start=True)\n",
    "t1_dpp = time.time()\n",
    "\n",
    "time_avg_dpp = (t1_dpp - t0_dpp) / N\n",
    "print((time_avg_dpp))\n",
    "\n",
    "times_dpp[ACT_DIM - 1] = time_avg_dpp\n",
    "# times_dpp = np.append(times_dpp,time_avg_dpp)"
   ]
  },
  {
   "cell_type": "code",
   "execution_count": 76,
   "metadata": {},
   "outputs": [
    {
     "data": {
      "image/png": "[encoded data removed]",
      "text/plain": [
       "<Figure size 640x480 with 1 Axes>"
      ]
     },
     "metadata": {},
     "output_type": "display_data"
    }
   ],
   "source": [
    "n = np.arange(1, 11)\n",
    "plt.minorticks_on()\n",
    "plt.plot(n, times_dcp, label=\"DCP\")\n",
    "plt.plot(n, times_dpp, label=\"DPP\")\n",
    "plt.legend()\n",
    "plt.xlabel(\"No. Action Space Dimensions\")\n",
    "plt.ylabel(\"Mean Solve Time (s)\")\n",
    "plt.grid(which=\"minor\", axis=\"y\", linestyle=\"--\")\n",
    "plt.grid(which=\"major\", linestyle=\"-\", color=\"gray\")\n",
    "plt.xticks(np.arange(min(n), max(n) + 1, 1.0))\n",
    "plt.tick_params(which=\"minor\", bottom=False)\n",
    "# plt.show()\n",
    "plt.savefig(\"solve_times.svg\")"
   ]
  },
  {
   "cell_type": "code",
   "execution_count": 77,
   "metadata": {},
   "outputs": [
    {
     "name": "stdout",
     "output_type": "stream",
     "text": [
      "[ 0.90060348 -2.05490063 -0.6756943  -0.16906133 -0.23970326  0.21848303\n",
      " -0.4260743  -1.17072643 -1.80228235 -1.86725577]\n",
      "[ 0.91606594 -2.0549006  -0.6756943  -0.1690613  -0.22083038  0.21848303\n",
      " -0.42607429 -1.17072643 -1.82634333 -1.86725576]\n",
      "[ 0.97784789 -2.02618592 -0.68853897 -0.12331591 -0.13705296  0.20858601\n",
      " -0.40007106 -1.1517241  -1.90247673 -1.84073934]\n",
      "[0.56536078 0.34125283 0.4838813  0.72449219 0.74358109 0.99482579\n",
      " 0.92662225 0.95712219 0.58747237 0.6153246 ]\n",
      "[0.5561186  0.34125281 0.48388129 0.72449216 0.73256516 0.99482577\n",
      " 0.92662221 0.95712217 0.57505291 0.61532459]\n",
      "[0.54441409 0.33912475 0.48254541 0.70271965 0.71880337 0.97631695\n",
      " 0.88955502 0.93455699 0.5718233  0.59874865]\n"
     ]
    }
   ],
   "source": [
    "# Check solutions are still sensible for high no. action space dimensions\n",
    "print(mu_safe.value)\n",
    "print(mu_proj.value)\n",
    "print(mu_task.value)\n",
    "\n",
    "print(sigma_safe.value)\n",
    "print(sigma_proj.value)\n",
    "print(sigma_task.value)"
   ]
  }
 ],
 "metadata": {
  "kernelspec": {
   "display_name": "rl_vcf",
   "language": "python",
   "name": "python3"
  },
  "language_info": {
   "codemirror_mode": {
    "name": "ipython",
    "version": 3
   },
   "file_extension": ".py",
   "mimetype": "text/x-python",
   "name": "python",
   "nbconvert_exporter": "python",
   "pygments_lexer": "ipython3",
   "version": "3.10.15"
  }
 },
 "nbformat": 4,
 "nbformat_minor": 2
}
